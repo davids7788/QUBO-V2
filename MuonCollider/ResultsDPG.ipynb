{
 "cells": [
  {
   "cell_type": "code",
   "execution_count": 41,
   "id": "8b786903",
   "metadata": {},
   "outputs": [],
   "source": [
    "import numpy as np\n",
    "import matplotlib.pyplot as plt\n",
    "\n"
   ]
  },
  {
   "cell_type": "code",
   "execution_count": 51,
   "id": "ec5a45cf",
   "metadata": {},
   "outputs": [
    {
     "name": "stdout",
     "output_type": "stream",
     "text": [
      "[1, 0, 1, 0, 0, 1, 0, 1, 0, 1, 1] [1. 1. 1. 1. 0. 1. 1. 1. 1. 1. 1.]\n"
     ]
    }
   ],
   "source": [
    "prefix = \"/nfs/dust/luxe/user/spatarod/Muon-Collider/DPG2023/Muon1GeV/DLFiltered\"\n",
    "\n",
    "data = np.load(f\"{prefix}/event_0/840686618_eigensolver_7q_connection_list/qubo_log.npy\",\n",
    "               allow_pickle=True)[()]\n",
    "print(data[\"truth solution vector\"], data[\"computed solution vector\"])"
   ]
  },
  {
   "cell_type": "code",
   "execution_count": 45,
   "id": "3bd19146",
   "metadata": {},
   "outputs": [
    {
     "data": {
      "text/plain": [
       "dict_keys(['truth solution vector', 'truth minimum energy', 'computed solution vector', 'computed minimum energy', 'time tracking complete', 'time tracking quantum', 'time tracking qubo iteration', 'time tracking subQUBOs', 'time tracking bit flip search', 'compare to analytical solution', 'hamiltonian', 'energy', 'solution vector'])"
      ]
     },
     "execution_count": 45,
     "metadata": {},
     "output_type": "execute_result"
    }
   ],
   "source": [
    "data.keys()"
   ]
  },
  {
   "cell_type": "code",
   "execution_count": 47,
   "id": "b2a96c45",
   "metadata": {},
   "outputs": [
    {
     "ename": "AttributeError",
     "evalue": "'numpy.float64' object has no attribute 'doublet_1'",
     "output_type": "error",
     "traceback": [
      "\u001b[0;31m---------------------------------------------------------------------------\u001b[0m",
      "\u001b[0;31mAttributeError\u001b[0m                            Traceback (most recent call last)",
      "\u001b[0;32m<ipython-input-47-96117e4bdcb6>\u001b[0m in \u001b[0;36m<module>\u001b[0;34m\u001b[0m\n\u001b[1;32m      1\u001b[0m \u001b[0mplt\u001b[0m\u001b[0;34m.\u001b[0m\u001b[0mfigure\u001b[0m\u001b[0;34m(\u001b[0m\u001b[0mfigsize\u001b[0m\u001b[0;34m=\u001b[0m\u001b[0;34m(\u001b[0m\u001b[0;36m12\u001b[0m\u001b[0;34m,\u001b[0m\u001b[0;36m10\u001b[0m\u001b[0;34m)\u001b[0m\u001b[0;34m,\u001b[0m \u001b[0mdpi\u001b[0m\u001b[0;34m=\u001b[0m\u001b[0;36m600\u001b[0m\u001b[0;34m)\u001b[0m\u001b[0;34m\u001b[0m\u001b[0;34m\u001b[0m\u001b[0m\n\u001b[1;32m      2\u001b[0m \u001b[0;32mfor\u001b[0m \u001b[0mtriplet\u001b[0m \u001b[0;32min\u001b[0m \u001b[0mdata\u001b[0m\u001b[0;34m[\u001b[0m\u001b[0;34m'computed solution vector'\u001b[0m\u001b[0;34m]\u001b[0m\u001b[0;34m:\u001b[0m\u001b[0;34m\u001b[0m\u001b[0;34m\u001b[0m\u001b[0m\n\u001b[0;32m----> 3\u001b[0;31m     plt.plot([triplet.doublet_1.hit_1_position[0],\n\u001b[0m\u001b[1;32m      4\u001b[0m               \u001b[0mtriplet\u001b[0m\u001b[0;34m.\u001b[0m\u001b[0mdoublet_1\u001b[0m\u001b[0;34m.\u001b[0m\u001b[0mhit_2_position\u001b[0m\u001b[0;34m[\u001b[0m\u001b[0;36m0\u001b[0m\u001b[0;34m]\u001b[0m\u001b[0;34m,\u001b[0m\u001b[0;34m\u001b[0m\u001b[0;34m\u001b[0m\u001b[0m\n\u001b[1;32m      5\u001b[0m               triplet.doublet_2.hit_2_position[0]],\n",
      "\u001b[0;31mAttributeError\u001b[0m: 'numpy.float64' object has no attribute 'doublet_1'"
     ]
    },
    {
     "data": {
      "text/plain": [
       "<Figure size 7200x6000 with 0 Axes>"
      ]
     },
     "metadata": {},
     "output_type": "display_data"
    }
   ],
   "source": [
    "plt.figure(figsize=(12,10), dpi=600)\n",
    "for triplet in data['computed solution vector']:\n",
    "    plt.plot([triplet.doublet_1.hit_1_position[0],\n",
    "              triplet.doublet_1.hit_2_position[0],\n",
    "              triplet.doublet_2.hit_2_position[0]],\n",
    "            [triplet.doublet_1.hit_1_position[1],\n",
    "              triplet.doublet_1.hit_2_position[1],\n",
    "              triplet.doublet_2.hit_2_position[1]])\n"
   ]
  },
  {
   "cell_type": "code",
   "execution_count": null,
   "id": "f2fd0561",
   "metadata": {},
   "outputs": [],
   "source": []
  }
 ],
 "metadata": {
  "kernelspec": {
   "display_name": "Python 3",
   "language": "python",
   "name": "python3"
  },
  "language_info": {
   "codemirror_mode": {
    "name": "ipython",
    "version": 3
   },
   "file_extension": ".py",
   "mimetype": "text/x-python",
   "name": "python",
   "nbconvert_exporter": "python",
   "pygments_lexer": "ipython3",
   "version": "3.6.8"
  }
 },
 "nbformat": 4,
 "nbformat_minor": 5
}
