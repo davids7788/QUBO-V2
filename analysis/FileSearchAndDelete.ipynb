{
 "cells": [
  {
   "cell_type": "code",
   "execution_count": 15,
   "id": "e11d7b08",
   "metadata": {},
   "outputs": [],
   "source": [
    "import os\n",
    "import matplotlib.pyplot as plt\n",
    "import numpy as np\n",
    "import shutil"
   ]
  },
  {
   "cell_type": "code",
   "execution_count": 16,
   "id": "5d6e6597",
   "metadata": {},
   "outputs": [],
   "source": [
    "prefix = \"/nfs/dust/luxe/user/spatarod/towards_paper/e-laser/phase-0/gpc\"\n",
    "xi4 = \"/4.0/smeared/\"\n",
    "xi5 = \"/5.0/smeared/\"\n",
    "xi7 = \"/7.0/smeared/\""
   ]
  },
  {
   "cell_type": "code",
   "execution_count": 17,
   "id": "2e5282fe",
   "metadata": {},
   "outputs": [
    {
     "data": {
      "text/plain": [
       "['bit_flip',\n",
       " 'eigensolver_7q_alt_version_2',\n",
       " 'eigensolver_7q',\n",
       " 'eigensolver_16q',\n",
       " 'eigensolver_7q_alt_version_3',\n",
       " 'eigensolver_7q_alt_version_5',\n",
       " 'eigensolver_1q',\n",
       " 'eigensolver_7q_alt_version_1',\n",
       " 'VQE_IdealQasmSim_7q_TwoLocal_SPSA',\n",
       " 'bit_flip_alt_version_3',\n",
       " 'bit_flip_alt_version_1',\n",
       " 'bit_flip_alt_version_4',\n",
       " 'eigensolver_7q_alt_version_4',\n",
       " 'bit_flip_alt_version_5',\n",
       " 'eigensolver_7q_merged_cluster',\n",
       " 'bit_flip_alt_version_2',\n",
       " 'VQE_IdealQasmSim_7q_TwoLocal_NFT',\n",
       " 'eigensolver_5q',\n",
       " 'VQE_IdealQasmSim_7q_TwoLocal_COBYLA',\n",
       " 'eigensolver_10q',\n",
       " 'eigensolver_12q',\n",
       " 'eigensolver_3q']"
      ]
     },
     "execution_count": 17,
     "metadata": {},
     "output_type": "execute_result"
    }
   ],
   "source": [
    "qubo = [file.split(\".\")[0] for file in os.listdir(\"/afs/desy.de/user/s/spatarod/QUBO-V2/configuration/qubo/\") \n",
    "        if \".ipynb\" not in file]\n",
    "qubo"
   ]
  },
  {
   "cell_type": "code",
   "execution_count": 18,
   "id": "ad0062ce",
   "metadata": {},
   "outputs": [
    {
     "data": {
      "text/plain": [
       "['c_3', 'c_5', 'c_1', 'c_4', 'c_2']"
      ]
     },
     "execution_count": 18,
     "metadata": {},
     "output_type": "execute_result"
    }
   ],
   "source": [
    "preselection = [file.split(\".\")[0] for file \n",
    "                in os.listdir(\"/afs/desy.de/user/s/spatarod/QUBO-V2/configuration/preselection/\") \n",
    "                if \".ipynb\" not in file and \"c_\" in file]\n",
    "preselection"
   ]
  },
  {
   "cell_type": "code",
   "execution_count": 19,
   "id": "6d45e547",
   "metadata": {},
   "outputs": [],
   "source": [
    "list_directories_xi7 = []\n",
    "for file in os.listdir(prefix + xi7):\n",
    "    if os.path.isdir(prefix + xi7 + file):\n",
    "        for pre in preselection:\n",
    "            if pre in file:\n",
    "                list_directories_xi7.append(prefix + xi7 + file)  \n",
    "list_directories_xi7 = list(set(list_directories_xi7))"
   ]
  },
  {
   "cell_type": "code",
   "execution_count": 20,
   "id": "65dafa45",
   "metadata": {},
   "outputs": [],
   "source": [
    "folder_to_remove = []\n",
    "for folder in list_directories_xi7:\n",
    "    for file_or_folder in os.listdir(folder):\n",
    "        # print(len(os.listdir(folder)))\n",
    "        if os.path.isdir(folder + \"/\" + file_or_folder):\n",
    "            # print(file_or_folder)\n",
    "            folder_to_remove.append(folder + \"/\" + file_or_folder)\n"
   ]
  },
  {
   "cell_type": "code",
   "execution_count": 23,
   "id": "969089dd",
   "metadata": {},
   "outputs": [
    {
     "data": {
      "text/plain": [
       "['/nfs/dust/luxe/user/spatarod/towards_paper/e-laser/phase-0/gpc/7.0/smeared/e0gpc_7.0_0005_sl-c_4/255581693_eigensolver_12q',\n",
       " '/nfs/dust/luxe/user/spatarod/towards_paper/e-laser/phase-0/gpc/7.0/smeared/e0gpc_7.0_0005_sl-c_4/205589696_eigensolver_10q',\n",
       " '/nfs/dust/luxe/user/spatarod/towards_paper/e-laser/phase-0/gpc/7.0/smeared/e0gpc_7.0_0005_sl-c_4/970186634_eigensolver_7q',\n",
       " '/nfs/dust/luxe/user/spatarod/towards_paper/e-laser/phase-0/gpc/7.0/smeared/e0gpc_7.0_0005_sl-c_4/365809987_eigensolver_5q',\n",
       " '/nfs/dust/luxe/user/spatarod/towards_paper/e-laser/phase-0/gpc/7.0/smeared/e0gpc_7.0_0005_sl-c_4/860785719_eigensolver_3q',\n",
       " '/nfs/dust/luxe/user/spatarod/towards_paper/e-laser/phase-0/gpc/7.0/smeared/e0gpc_7.0_0005_sl-c_4/318057905_bit_flip',\n",
       " '/nfs/dust/luxe/user/spatarod/towards_paper/e-laser/phase-0/gpc/7.0/smeared/e0gpc_7.0_0003_sl-c_3/330114886_eigensolver_12q',\n",
       " '/nfs/dust/luxe/user/spatarod/towards_paper/e-laser/phase-0/gpc/7.0/smeared/e0gpc_7.0_0003_sl-c_3/365907581_eigensolver_10q',\n",
       " '/nfs/dust/luxe/user/spatarod/towards_paper/e-laser/phase-0/gpc/7.0/smeared/e0gpc_7.0_0003_sl-c_3/131720693_eigensolver_3q',\n",
       " '/nfs/dust/luxe/user/spatarod/towards_paper/e-laser/phase-0/gpc/7.0/smeared/e0gpc_7.0_0003_sl-c_3/617501858_eigensolver_5q',\n",
       " '/nfs/dust/luxe/user/spatarod/towards_paper/e-laser/phase-0/gpc/7.0/smeared/e0gpc_7.0_0003_sl-c_3/939070326_eigensolver_7q',\n",
       " '/nfs/dust/luxe/user/spatarod/towards_paper/e-laser/phase-0/gpc/7.0/smeared/e0gpc_7.0_0003_sl-c_3/960011551_bit_flip',\n",
       " '/nfs/dust/luxe/user/spatarod/towards_paper/e-laser/phase-0/gpc/7.0/smeared/e0gpc_7.0_0004_sl-c_4/927090029_eigensolver_5q',\n",
       " '/nfs/dust/luxe/user/spatarod/towards_paper/e-laser/phase-0/gpc/7.0/smeared/e0gpc_7.0_0004_sl-c_4/753157237_bit_flip',\n",
       " '/nfs/dust/luxe/user/spatarod/towards_paper/e-laser/phase-0/gpc/7.0/smeared/e0gpc_7.0_0004_sl-c_4/563432429_eigensolver_7q',\n",
       " '/nfs/dust/luxe/user/spatarod/towards_paper/e-laser/phase-0/gpc/7.0/smeared/e0gpc_7.0_0004_sl-c_4/981783837_eigensolver_12q',\n",
       " '/nfs/dust/luxe/user/spatarod/towards_paper/e-laser/phase-0/gpc/7.0/smeared/e0gpc_7.0_0004_sl-c_4/681306831_eigensolver_10q',\n",
       " '/nfs/dust/luxe/user/spatarod/towards_paper/e-laser/phase-0/gpc/7.0/smeared/e0gpc_7.0_0004_sl-c_4/125205903_eigensolver_3q',\n",
       " '/nfs/dust/luxe/user/spatarod/towards_paper/e-laser/phase-0/gpc/7.0/smeared/e0gpc_7.0_0007_sl-c_3/418507526_eigensolver_10q',\n",
       " '/nfs/dust/luxe/user/spatarod/towards_paper/e-laser/phase-0/gpc/7.0/smeared/e0gpc_7.0_0007_sl-c_3/860943643_bit_flip',\n",
       " '/nfs/dust/luxe/user/spatarod/towards_paper/e-laser/phase-0/gpc/7.0/smeared/e0gpc_7.0_0007_sl-c_3/256729108_eigensolver_7q',\n",
       " '/nfs/dust/luxe/user/spatarod/towards_paper/e-laser/phase-0/gpc/7.0/smeared/e0gpc_7.0_0007_sl-c_3/558510204_eigensolver_12q',\n",
       " '/nfs/dust/luxe/user/spatarod/towards_paper/e-laser/phase-0/gpc/7.0/smeared/e0gpc_7.0_0007_sl-c_3/213008225_eigensolver_3q',\n",
       " '/nfs/dust/luxe/user/spatarod/towards_paper/e-laser/phase-0/gpc/7.0/smeared/e0gpc_7.0_0007_sl-c_3/686371047_eigensolver_5q',\n",
       " '/nfs/dust/luxe/user/spatarod/towards_paper/e-laser/phase-0/gpc/7.0/smeared/e0gpc_7.0_0007_sl-c_3/191838999_eigensolver_7q',\n",
       " '/nfs/dust/luxe/user/spatarod/towards_paper/e-laser/phase-0/gpc/7.0/smeared/e0gpc_7.0_0007_sl-c_4/776088304_eigensolver_7q',\n",
       " '/nfs/dust/luxe/user/spatarod/towards_paper/e-laser/phase-0/gpc/7.0/smeared/e0gpc_7.0_0007_sl-c_4/882775076_eigensolver_3q',\n",
       " '/nfs/dust/luxe/user/spatarod/towards_paper/e-laser/phase-0/gpc/7.0/smeared/e0gpc_7.0_0007_sl-c_4/717002941_eigensolver_10q',\n",
       " '/nfs/dust/luxe/user/spatarod/towards_paper/e-laser/phase-0/gpc/7.0/smeared/e0gpc_7.0_0007_sl-c_4/754460726_eigensolver_12q',\n",
       " '/nfs/dust/luxe/user/spatarod/towards_paper/e-laser/phase-0/gpc/7.0/smeared/e0gpc_7.0_0007_sl-c_4/334587616_bit_flip',\n",
       " '/nfs/dust/luxe/user/spatarod/towards_paper/e-laser/phase-0/gpc/7.0/smeared/e0gpc_7.0_0007_sl-c_4/889218317_eigensolver_5q',\n",
       " '/nfs/dust/luxe/user/spatarod/towards_paper/e-laser/phase-0/gpc/7.0/smeared/e0gpc_7.0_0000_sl-c_3/881296027_eigensolver_3q',\n",
       " '/nfs/dust/luxe/user/spatarod/towards_paper/e-laser/phase-0/gpc/7.0/smeared/e0gpc_7.0_0000_sl-c_3/545134958_eigensolver_12q',\n",
       " '/nfs/dust/luxe/user/spatarod/towards_paper/e-laser/phase-0/gpc/7.0/smeared/e0gpc_7.0_0000_sl-c_3/974379094_bit_flip',\n",
       " '/nfs/dust/luxe/user/spatarod/towards_paper/e-laser/phase-0/gpc/7.0/smeared/e0gpc_7.0_0000_sl-c_3/410308732_eigensolver_5q',\n",
       " '/nfs/dust/luxe/user/spatarod/towards_paper/e-laser/phase-0/gpc/7.0/smeared/e0gpc_7.0_0000_sl-c_3/846219237_eigensolver_10q',\n",
       " '/nfs/dust/luxe/user/spatarod/towards_paper/e-laser/phase-0/gpc/7.0/smeared/e0gpc_7.0_0000_sl-c_3/615604695_eigensolver_7q',\n",
       " '/nfs/dust/luxe/user/spatarod/towards_paper/e-laser/phase-0/gpc/7.0/smeared/e0gpc_7.0_0008_sl-c_3/849729566_eigensolver_7q',\n",
       " '/nfs/dust/luxe/user/spatarod/towards_paper/e-laser/phase-0/gpc/7.0/smeared/e0gpc_7.0_0008_sl-c_3/546670659_eigensolver_3q',\n",
       " '/nfs/dust/luxe/user/spatarod/towards_paper/e-laser/phase-0/gpc/7.0/smeared/e0gpc_7.0_0008_sl-c_3/156599399_eigensolver_12q',\n",
       " '/nfs/dust/luxe/user/spatarod/towards_paper/e-laser/phase-0/gpc/7.0/smeared/e0gpc_7.0_0008_sl-c_3/340940356_bit_flip',\n",
       " '/nfs/dust/luxe/user/spatarod/towards_paper/e-laser/phase-0/gpc/7.0/smeared/e0gpc_7.0_0008_sl-c_3/653043649_eigensolver_5q',\n",
       " '/nfs/dust/luxe/user/spatarod/towards_paper/e-laser/phase-0/gpc/7.0/smeared/e0gpc_7.0_0008_sl-c_3/283447969_eigensolver_10q',\n",
       " '/nfs/dust/luxe/user/spatarod/towards_paper/e-laser/phase-0/gpc/7.0/smeared/e0gpc_7.0_0001_sl-c_4/438167609_eigensolver_12q',\n",
       " '/nfs/dust/luxe/user/spatarod/towards_paper/e-laser/phase-0/gpc/7.0/smeared/e0gpc_7.0_0001_sl-c_4/472870767_eigensolver_10q',\n",
       " '/nfs/dust/luxe/user/spatarod/towards_paper/e-laser/phase-0/gpc/7.0/smeared/e0gpc_7.0_0001_sl-c_4/820556417_bit_flip',\n",
       " '/nfs/dust/luxe/user/spatarod/towards_paper/e-laser/phase-0/gpc/7.0/smeared/e0gpc_7.0_0001_sl-c_4/935298653_eigensolver_5q',\n",
       " '/nfs/dust/luxe/user/spatarod/towards_paper/e-laser/phase-0/gpc/7.0/smeared/e0gpc_7.0_0001_sl-c_4/463296306_eigensolver_7q',\n",
       " '/nfs/dust/luxe/user/spatarod/towards_paper/e-laser/phase-0/gpc/7.0/smeared/e0gpc_7.0_0001_sl-c_4/725431131_eigensolver_3q',\n",
       " '/nfs/dust/luxe/user/spatarod/towards_paper/e-laser/phase-0/gpc/7.0/smeared/e0gpc_7.0_0009_sl-c_4/969109102_eigensolver_10q',\n",
       " '/nfs/dust/luxe/user/spatarod/towards_paper/e-laser/phase-0/gpc/7.0/smeared/e0gpc_7.0_0009_sl-c_4/769823415_bit_flip',\n",
       " '/nfs/dust/luxe/user/spatarod/towards_paper/e-laser/phase-0/gpc/7.0/smeared/e0gpc_7.0_0009_sl-c_4/507480507_eigensolver_5q',\n",
       " '/nfs/dust/luxe/user/spatarod/towards_paper/e-laser/phase-0/gpc/7.0/smeared/e0gpc_7.0_0009_sl-c_4/575561954_eigensolver_12q',\n",
       " '/nfs/dust/luxe/user/spatarod/towards_paper/e-laser/phase-0/gpc/7.0/smeared/e0gpc_7.0_0009_sl-c_4/393558147_eigensolver_3q',\n",
       " '/nfs/dust/luxe/user/spatarod/towards_paper/e-laser/phase-0/gpc/7.0/smeared/e0gpc_7.0_0009_sl-c_4/167589934_eigensolver_7q',\n",
       " '/nfs/dust/luxe/user/spatarod/towards_paper/e-laser/phase-0/gpc/7.0/smeared/e0gpc_7.0_0002_sl-c_3/804158507_eigensolver_10q',\n",
       " '/nfs/dust/luxe/user/spatarod/towards_paper/e-laser/phase-0/gpc/7.0/smeared/e0gpc_7.0_0002_sl-c_3/274244275_bit_flip',\n",
       " '/nfs/dust/luxe/user/spatarod/towards_paper/e-laser/phase-0/gpc/7.0/smeared/e0gpc_7.0_0002_sl-c_3/476069422_eigensolver_12q',\n",
       " '/nfs/dust/luxe/user/spatarod/towards_paper/e-laser/phase-0/gpc/7.0/smeared/e0gpc_7.0_0002_sl-c_3/892499570_eigensolver_3q',\n",
       " '/nfs/dust/luxe/user/spatarod/towards_paper/e-laser/phase-0/gpc/7.0/smeared/e0gpc_7.0_0002_sl-c_3/930462807_eigensolver_7q',\n",
       " '/nfs/dust/luxe/user/spatarod/towards_paper/e-laser/phase-0/gpc/7.0/smeared/e0gpc_7.0_0002_sl-c_3/191216765_eigensolver_5q',\n",
       " '/nfs/dust/luxe/user/spatarod/towards_paper/e-laser/phase-0/gpc/7.0/smeared/e0gpc_7.0_0006_sl-c_4/576611112_eigensolver_7q',\n",
       " '/nfs/dust/luxe/user/spatarod/towards_paper/e-laser/phase-0/gpc/7.0/smeared/e0gpc_7.0_0006_sl-c_4/100879372_eigensolver_3q',\n",
       " '/nfs/dust/luxe/user/spatarod/towards_paper/e-laser/phase-0/gpc/7.0/smeared/e0gpc_7.0_0006_sl-c_4/816395230_eigensolver_5q',\n",
       " '/nfs/dust/luxe/user/spatarod/towards_paper/e-laser/phase-0/gpc/7.0/smeared/e0gpc_7.0_0006_sl-c_4/174221595_eigensolver_10q',\n",
       " '/nfs/dust/luxe/user/spatarod/towards_paper/e-laser/phase-0/gpc/7.0/smeared/e0gpc_7.0_0006_sl-c_4/895430684_bit_flip',\n",
       " '/nfs/dust/luxe/user/spatarod/towards_paper/e-laser/phase-0/gpc/7.0/smeared/e0gpc_7.0_0006_sl-c_4/776324464_eigensolver_12q',\n",
       " '/nfs/dust/luxe/user/spatarod/towards_paper/e-laser/phase-0/gpc/7.0/smeared/e0gpc_7.0_0001_sl-c_3/566876274_bit_flip',\n",
       " '/nfs/dust/luxe/user/spatarod/towards_paper/e-laser/phase-0/gpc/7.0/smeared/e0gpc_7.0_0001_sl-c_3/213009153_eigensolver_12q',\n",
       " '/nfs/dust/luxe/user/spatarod/towards_paper/e-laser/phase-0/gpc/7.0/smeared/e0gpc_7.0_0001_sl-c_3/157189952_eigensolver_3q',\n",
       " '/nfs/dust/luxe/user/spatarod/towards_paper/e-laser/phase-0/gpc/7.0/smeared/e0gpc_7.0_0001_sl-c_3/783822848_eigensolver_3q',\n",
       " '/nfs/dust/luxe/user/spatarod/towards_paper/e-laser/phase-0/gpc/7.0/smeared/e0gpc_7.0_0001_sl-c_3/227478149_eigensolver_10q',\n",
       " '/nfs/dust/luxe/user/spatarod/towards_paper/e-laser/phase-0/gpc/7.0/smeared/e0gpc_7.0_0001_sl-c_3/489989940_eigensolver_7q',\n",
       " '/nfs/dust/luxe/user/spatarod/towards_paper/e-laser/phase-0/gpc/7.0/smeared/e0gpc_7.0_0001_sl-c_3/555981212_eigensolver_5q',\n",
       " '/nfs/dust/luxe/user/spatarod/towards_paper/e-laser/phase-0/gpc/7.0/smeared/e0gpc_7.0_0008_sl-c_4/224001084_eigensolver_5q',\n",
       " '/nfs/dust/luxe/user/spatarod/towards_paper/e-laser/phase-0/gpc/7.0/smeared/e0gpc_7.0_0008_sl-c_4/923521430_bit_flip',\n",
       " '/nfs/dust/luxe/user/spatarod/towards_paper/e-laser/phase-0/gpc/7.0/smeared/e0gpc_7.0_0008_sl-c_4/127322619_eigensolver_7q',\n",
       " '/nfs/dust/luxe/user/spatarod/towards_paper/e-laser/phase-0/gpc/7.0/smeared/e0gpc_7.0_0008_sl-c_4/429679063_eigensolver_12q',\n",
       " '/nfs/dust/luxe/user/spatarod/towards_paper/e-laser/phase-0/gpc/7.0/smeared/e0gpc_7.0_0008_sl-c_4/117783891_eigensolver_3q',\n",
       " '/nfs/dust/luxe/user/spatarod/towards_paper/e-laser/phase-0/gpc/7.0/smeared/e0gpc_7.0_0008_sl-c_4/486724988_eigensolver_10q',\n",
       " '/nfs/dust/luxe/user/spatarod/towards_paper/e-laser/phase-0/gpc/7.0/smeared/e0gpc_7.0_0006_sl-c_3/699196517_eigensolver_5q',\n",
       " '/nfs/dust/luxe/user/spatarod/towards_paper/e-laser/phase-0/gpc/7.0/smeared/e0gpc_7.0_0006_sl-c_3/994735155_eigensolver_10q',\n",
       " '/nfs/dust/luxe/user/spatarod/towards_paper/e-laser/phase-0/gpc/7.0/smeared/e0gpc_7.0_0006_sl-c_3/885552815_eigensolver_7q',\n",
       " '/nfs/dust/luxe/user/spatarod/towards_paper/e-laser/phase-0/gpc/7.0/smeared/e0gpc_7.0_0006_sl-c_3/321922028_eigensolver_3q',\n",
       " '/nfs/dust/luxe/user/spatarod/towards_paper/e-laser/phase-0/gpc/7.0/smeared/e0gpc_7.0_0006_sl-c_3/343938695_bit_flip',\n",
       " '/nfs/dust/luxe/user/spatarod/towards_paper/e-laser/phase-0/gpc/7.0/smeared/e0gpc_7.0_0006_sl-c_3/467462480_eigensolver_12q',\n",
       " '/nfs/dust/luxe/user/spatarod/towards_paper/e-laser/phase-0/gpc/7.0/smeared/e0gpc_7.0_0000_sl-c_4/730101028_eigensolver_12q',\n",
       " '/nfs/dust/luxe/user/spatarod/towards_paper/e-laser/phase-0/gpc/7.0/smeared/e0gpc_7.0_0000_sl-c_4/268509427_eigensolver_7q',\n",
       " '/nfs/dust/luxe/user/spatarod/towards_paper/e-laser/phase-0/gpc/7.0/smeared/e0gpc_7.0_0000_sl-c_4/824247985_eigensolver_3q',\n",
       " '/nfs/dust/luxe/user/spatarod/towards_paper/e-laser/phase-0/gpc/7.0/smeared/e0gpc_7.0_0000_sl-c_4/661822490_eigensolver_10q',\n",
       " '/nfs/dust/luxe/user/spatarod/towards_paper/e-laser/phase-0/gpc/7.0/smeared/e0gpc_7.0_0000_sl-c_4/329271859_eigensolver_5q',\n",
       " '/nfs/dust/luxe/user/spatarod/towards_paper/e-laser/phase-0/gpc/7.0/smeared/e0gpc_7.0_0000_sl-c_4/819474855_bit_flip',\n",
       " '/nfs/dust/luxe/user/spatarod/towards_paper/e-laser/phase-0/gpc/7.0/smeared/e0gpc_7.0_0003_sl-c_4/540631178_eigensolver_3q',\n",
       " '/nfs/dust/luxe/user/spatarod/towards_paper/e-laser/phase-0/gpc/7.0/smeared/e0gpc_7.0_0003_sl-c_4/221232244_eigensolver_10q',\n",
       " '/nfs/dust/luxe/user/spatarod/towards_paper/e-laser/phase-0/gpc/7.0/smeared/e0gpc_7.0_0003_sl-c_4/594371868_bit_flip',\n",
       " '/nfs/dust/luxe/user/spatarod/towards_paper/e-laser/phase-0/gpc/7.0/smeared/e0gpc_7.0_0003_sl-c_4/738822409_eigensolver_7q',\n",
       " '/nfs/dust/luxe/user/spatarod/towards_paper/e-laser/phase-0/gpc/7.0/smeared/e0gpc_7.0_0003_sl-c_4/214765005_eigensolver_5q',\n",
       " '/nfs/dust/luxe/user/spatarod/towards_paper/e-laser/phase-0/gpc/7.0/smeared/e0gpc_7.0_0003_sl-c_4/513901890_eigensolver_12q',\n",
       " '/nfs/dust/luxe/user/spatarod/towards_paper/e-laser/phase-0/gpc/7.0/smeared/e0gpc_7.0_0004_sl-c_3/588807880_bit_flip',\n",
       " '/nfs/dust/luxe/user/spatarod/towards_paper/e-laser/phase-0/gpc/7.0/smeared/e0gpc_7.0_0004_sl-c_3/947525233_eigensolver_10q',\n",
       " '/nfs/dust/luxe/user/spatarod/towards_paper/e-laser/phase-0/gpc/7.0/smeared/e0gpc_7.0_0004_sl-c_3/789624450_eigensolver_5q',\n",
       " '/nfs/dust/luxe/user/spatarod/towards_paper/e-laser/phase-0/gpc/7.0/smeared/e0gpc_7.0_0004_sl-c_3/685349024_eigensolver_12q',\n",
       " '/nfs/dust/luxe/user/spatarod/towards_paper/e-laser/phase-0/gpc/7.0/smeared/e0gpc_7.0_0004_sl-c_3/235626099_eigensolver_3q',\n",
       " '/nfs/dust/luxe/user/spatarod/towards_paper/e-laser/phase-0/gpc/7.0/smeared/e0gpc_7.0_0004_sl-c_3/138626352_eigensolver_7q',\n",
       " '/nfs/dust/luxe/user/spatarod/towards_paper/e-laser/phase-0/gpc/7.0/smeared/e0gpc_7.0_0004_sl-c_3/931417459_bit_flip',\n",
       " '/nfs/dust/luxe/user/spatarod/towards_paper/e-laser/phase-0/gpc/7.0/smeared/e0gpc_7.0_0002_sl-c_4/224426954_eigensolver_5q',\n",
       " '/nfs/dust/luxe/user/spatarod/towards_paper/e-laser/phase-0/gpc/7.0/smeared/e0gpc_7.0_0002_sl-c_4/843474296_eigensolver_10q',\n",
       " '/nfs/dust/luxe/user/spatarod/towards_paper/e-laser/phase-0/gpc/7.0/smeared/e0gpc_7.0_0002_sl-c_4/181803214_eigensolver_12q',\n",
       " '/nfs/dust/luxe/user/spatarod/towards_paper/e-laser/phase-0/gpc/7.0/smeared/e0gpc_7.0_0002_sl-c_4/974926155_bit_flip',\n",
       " '/nfs/dust/luxe/user/spatarod/towards_paper/e-laser/phase-0/gpc/7.0/smeared/e0gpc_7.0_0002_sl-c_4/427843331_eigensolver_7q',\n",
       " '/nfs/dust/luxe/user/spatarod/towards_paper/e-laser/phase-0/gpc/7.0/smeared/e0gpc_7.0_0002_sl-c_4/261232136_eigensolver_3q',\n",
       " '/nfs/dust/luxe/user/spatarod/towards_paper/e-laser/phase-0/gpc/7.0/smeared/e0gpc_7.0_0009_sl-c_3/300027531_bit_flip',\n",
       " '/nfs/dust/luxe/user/spatarod/towards_paper/e-laser/phase-0/gpc/7.0/smeared/e0gpc_7.0_0009_sl-c_3/301981890_eigensolver_5q',\n",
       " '/nfs/dust/luxe/user/spatarod/towards_paper/e-laser/phase-0/gpc/7.0/smeared/e0gpc_7.0_0009_sl-c_3/296280449_eigensolver_10q',\n",
       " '/nfs/dust/luxe/user/spatarod/towards_paper/e-laser/phase-0/gpc/7.0/smeared/e0gpc_7.0_0009_sl-c_3/879858882_eigensolver_7q',\n",
       " '/nfs/dust/luxe/user/spatarod/towards_paper/e-laser/phase-0/gpc/7.0/smeared/e0gpc_7.0_0009_sl-c_3/292580285_eigensolver_3q',\n",
       " '/nfs/dust/luxe/user/spatarod/towards_paper/e-laser/phase-0/gpc/7.0/smeared/e0gpc_7.0_0009_sl-c_3/858336343_eigensolver_12q',\n",
       " '/nfs/dust/luxe/user/spatarod/towards_paper/e-laser/phase-0/gpc/7.0/smeared/e0gpc_7.0_0005_sl-c_3/980916999_eigensolver_7q',\n",
       " '/nfs/dust/luxe/user/spatarod/towards_paper/e-laser/phase-0/gpc/7.0/smeared/e0gpc_7.0_0005_sl-c_3/516526013_eigensolver_10q',\n",
       " '/nfs/dust/luxe/user/spatarod/towards_paper/e-laser/phase-0/gpc/7.0/smeared/e0gpc_7.0_0005_sl-c_3/306542040_eigensolver_3q',\n",
       " '/nfs/dust/luxe/user/spatarod/towards_paper/e-laser/phase-0/gpc/7.0/smeared/e0gpc_7.0_0005_sl-c_3/978895171_bit_flip',\n",
       " '/nfs/dust/luxe/user/spatarod/towards_paper/e-laser/phase-0/gpc/7.0/smeared/e0gpc_7.0_0005_sl-c_3/629571599_eigensolver_5q',\n",
       " '/nfs/dust/luxe/user/spatarod/towards_paper/e-laser/phase-0/gpc/7.0/smeared/e0gpc_7.0_0005_sl-c_3/719653496_eigensolver_12q']"
      ]
     },
     "execution_count": 23,
     "metadata": {},
     "output_type": "execute_result"
    }
   ],
   "source": [
    "folder_to_remove\n"
   ]
  },
  {
   "cell_type": "code",
   "execution_count": 24,
   "id": "7349ecd6",
   "metadata": {},
   "outputs": [],
   "source": [
    "for folder in folder_to_remove:\n",
    "    shutil.rmtree(folder)"
   ]
  },
  {
   "cell_type": "code",
   "execution_count": null,
   "id": "5bb90a97",
   "metadata": {},
   "outputs": [],
   "source": []
  }
 ],
 "metadata": {
  "kernelspec": {
   "display_name": "Python 3",
   "language": "python",
   "name": "python3"
  },
  "language_info": {
   "codemirror_mode": {
    "name": "ipython",
    "version": 3
   },
   "file_extension": ".py",
   "mimetype": "text/x-python",
   "name": "python",
   "nbconvert_exporter": "python",
   "pygments_lexer": "ipython3",
   "version": "3.6.8"
  }
 },
 "nbformat": 4,
 "nbformat_minor": 5
}
