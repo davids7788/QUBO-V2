{
 "cells": [
  {
   "cell_type": "code",
   "execution_count": 15,
   "id": "e11d7b08",
   "metadata": {},
   "outputs": [],
   "source": [
    "import os\n",
    "import matplotlib.pyplot as plt\n",
    "import numpy as np\n",
    "import shutil"
   ]
  },
  {
   "cell_type": "code",
   "execution_count": 19,
   "id": "6d45e547",
   "metadata": {},
   "outputs": [],
   "source": [
    "list_directories_xi7 = []\n",
    "for file in os.listdir(prefix + xi7):\n",
    "    if os.path.isdir(prefix + xi7 + file):\n",
    "        for pre in preselection:\n",
    "            if pre in file:\n",
    "                list_directories_xi7.append(prefix + xi7 + file)  \n"
   ]
  },
  {
   "cell_type": "code",
   "execution_count": 24,
   "id": "7349ecd6",
   "metadata": {},
   "outputs": [],
   "source": [
    "for folder in folder_to_remove:\n",
    "    shutil.rmtree(folder)"
   ]
  }
 ],
 "metadata": {
  "kernelspec": {
   "display_name": "Python 3",
   "language": "python",
   "name": "python3"
  },
  "language_info": {
   "codemirror_mode": {
    "name": "ipython",
    "version": 3
   },
   "file_extension": ".py",
   "mimetype": "text/x-python",
   "name": "python",
   "nbconvert_exporter": "python",
   "pygments_lexer": "ipython3",
   "version": "3.6.8"
  }
 },
 "nbformat": 4,
 "nbformat_minor": 5
}
