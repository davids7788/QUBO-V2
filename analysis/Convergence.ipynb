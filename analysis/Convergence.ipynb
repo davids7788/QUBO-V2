{
 "cells": [
  {
   "cell_type": "code",
   "execution_count": 1,
   "metadata": {},
   "outputs": [],
   "source": [
    "import matplotlib.pyplot as plt\n",
    "import numpy as np\n",
    "import sys\n",
    "import os\n",
    "sys.path.append(\"../src\")"
   ]
  },
  {
   "cell_type": "code",
   "execution_count": 2,
   "metadata": {},
   "outputs": [
    {
     "data": {
      "text/plain": [
       "['eigensolver_7q.yaml',\n",
       " 'eigensolver_16q.yaml',\n",
       " 'eigensolver_5q.yaml',\n",
       " 'eigensolver_10q.yaml',\n",
       " 'eigensolver_12q.yaml',\n",
       " 'eigensolver_3q.yaml']"
      ]
     },
     "execution_count": 2,
     "metadata": {},
     "output_type": "execute_result"
    }
   ],
   "source": [
    "preselection_configs = [file for file in os.listdir(\"/afs/desy.de/user/s/spatarod/QUBO-V2/configuration/preselection/\") \n",
    "                        if \"c_\" in file]\n",
    "qubo_configs = [file for file in os.listdir(\"/afs/desy.de/user/s/spatarod/QUBO-V2/configuration/qubo/\") \n",
    "                if \".ipynb\" not in file and \"eigensolver\" in file and \"alt\" not in file and \"merged\" not in file and not \n",
    "                \"1q\" in file]\n",
    "qubo_configs"
   ]
  },
  {
   "cell_type": "code",
   "execution_count": 3,
   "metadata": {},
   "outputs": [],
   "source": [
    "prefix = \"/nfs/dust/luxe/user/spatarod/towards_paper/e-laser/phase-0/gpc/\"\n",
    "xi = 5.0\n",
    "preselection = \"-c_4\"\n",
    "\n",
    "minimum_energy_3_q = []\n",
    "minimum_energy_5_q = []\n",
    "minimum_energy_7_q = []\n",
    "minimum_energy_10_q = []\n",
    "minimum_energy_12_q = []\n",
    "minimum_energy_16_q = []\n",
    "\n",
    "iteration_for_95_energy_3_q = []\n",
    "iteration_for_95_energy_5_q = []\n",
    "iteration_for_95_energy_7_q = []\n",
    "iteration_for_95_energy_10_q = []\n",
    "iteration_for_95_energy_12_q = []\n",
    "iteration_for_95_energy_16_q = []\n",
    "\n",
    "average_iteration_time_3_q = []\n",
    "average_iteration_time_5_q = []\n",
    "average_iteration_time_7_q = []\n",
    "average_iteration_time_10_q = []\n",
    "average_iteration_time_12_q = []\n",
    "average_iteration_time_16_q = []\n",
    "\n",
    "  \n",
    "threshold = 0.9\n",
    "\n",
    "\n",
    "for folder in os.listdir(f\"{prefix}{xi}/smeared/\"):\n",
    "    if preselection in folder:\n",
    "        for qubo in os.listdir(f\"{prefix}{xi}/smeared/{folder}\"):\n",
    "            if \"_\".join(qubo.split(\"_\")[1:]) in [qubo_config.split(\".\")[0] for qubo_config in qubo_configs]:\n",
    "                # print(f\"{prefix}{xi}/smeared/{folder}/{qubo}\")\n",
    "                data = np.load(f\"{prefix}{xi}/smeared/{folder}/{qubo}/qubo_log.npy\", allow_pickle=True)\n",
    "                if \"3q\" in qubo:\n",
    "                    minimum_energy_3_q.append(data[()][\"truth minimum energy\"])\n",
    "                    for iteration, energy in zip(data[()][\"energy\"].keys(), data[()][\"energy\"].values()):\n",
    "                        if energy / data[()][\"truth minimum energy\"] > threshold:\n",
    "                            iteration_for_95_energy_3_q.append(int(iteration)) \n",
    "                            break\n",
    "                    average_iteration_time_3_q.append(np.mean(list(data[()][\"time tracking qubo iteration\"].values())))\n",
    "                if \"5q\" in qubo:\n",
    "                    minimum_energy_5_q.append(data[()][\"truth minimum energy\"])\n",
    "                    for iteration, energy in zip(data[()][\"energy\"].keys(), data[()][\"energy\"].values()):\n",
    "                        if energy / data[()][\"truth minimum energy\"] > threshold:\n",
    "                            iteration_for_95_energy_5_q.append(int(iteration))\n",
    "                            break\n",
    "                    average_iteration_time_5_q.append(np.mean(list(data[()][\"time tracking qubo iteration\"].values())))                    \n",
    "                if \"7q\" in qubo:\n",
    "                    minimum_energy_7_q.append(data[()][\"truth minimum energy\"])   \n",
    "                    for iteration, energy in zip(data[()][\"energy\"].keys(), data[()][\"energy\"].values()):\n",
    "                        if energy / data[()][\"truth minimum energy\"] > threshold:\n",
    "                            iteration_for_95_energy_7_q.append(int(iteration))\n",
    "                            break\n",
    "                    average_iteration_time_7_q.append(np.mean(list(data[()][\"time tracking qubo iteration\"].values())))                    \n",
    "                    \n",
    "                if \"10q\" in qubo:\n",
    "                    minimum_energy_10_q.append(data[()][\"truth minimum energy\"])\n",
    "                    for iteration, energy in zip(data[()][\"energy\"].keys(), data[()][\"energy\"].values()):\n",
    "                        if energy / data[()][\"truth minimum energy\"] > threshold:\n",
    "                            iteration_for_95_energy_10_q.append(int(iteration))\n",
    "                            break\n",
    "                    average_iteration_time_10_q.append(np.mean(list(data[()][\"time tracking qubo iteration\"].values())))                    \n",
    "                    \n",
    "                if \"12q\" in qubo:\n",
    "                    minimum_energy_12_q.append(data[()][\"truth minimum energy\"])\n",
    "                    for iteration, energy in zip(data[()][\"energy\"].keys(), data[()][\"energy\"].values()):\n",
    "                        if energy / data[()][\"truth minimum energy\"] > threshold:\n",
    "                            iteration_for_95_energy_12_q.append(int(iteration)) \n",
    "                            break\n",
    "                    average_iteration_time_12_q.append(np.mean(list(data[()][\"time tracking qubo iteration\"].values())))                    \n",
    "                    \n",
    "                if \"16q\" in qubo:\n",
    "                    minimum_energy_16_q.append(data[()][\"truth minimum energy\"])                    \n",
    "                    for iteration, energy in zip(data[()][\"energy\"].keys(), data[()][\"energy\"].values()):\n",
    "                        if energy / data[()][\"truth minimum energy\"] > threshold:\n",
    "                            iteration_for_95_energy_16_q.append(int(iteration))\n",
    "                            break\n",
    "                    average_iteration_time_16_q.append(np.mean(list(data[()][\"time tracking qubo iteration\"].values())))                    \n",
    "                    \n",
    "                    \n",
    "                    "
   ]
  },
  {
   "cell_type": "code",
   "execution_count": 4,
   "metadata": {},
   "outputs": [
    {
     "name": "stdout",
     "output_type": "stream",
     "text": [
      "1.0\n",
      "1.0\n",
      "1.0\n",
      "1.0\n",
      "1.0\n",
      "1.0\n"
     ]
    }
   ],
   "source": [
    "print(np.mean(iteration_for_95_energy_3_q))\n",
    "print(np.mean(iteration_for_95_energy_5_q))\n",
    "print(np.mean(iteration_for_95_energy_7_q))\n",
    "print(np.mean(iteration_for_95_energy_10_q))\n",
    "print(np.mean(iteration_for_95_energy_12_q))\n",
    "print(np.mean(iteration_for_95_energy_16_q))\n"
   ]
  },
  {
   "cell_type": "code",
   "execution_count": 5,
   "metadata": {},
   "outputs": [
    {
     "name": "stdout",
     "output_type": "stream",
     "text": [
      "{0: 182256.31239203867, '0': -16382.133630116536, '1': -18350.05911068749, '2': -18532.911860775046, '3': -18575.317820509565, '4': -18585.908013098782, '5': -18586.8436832115, '6': -18586.8436832115, '7': -18586.8436832115, '8': -18586.8436832115, '9': -18586.8436832115, '10': -18586.8436832115}\n"
     ]
    }
   ],
   "source": [
    "print(data[()][\"energy\"])"
   ]
  },
  {
   "cell_type": "code",
   "execution_count": 43,
   "metadata": {},
   "outputs": [
    {
     "data": {
      "text/plain": [
       "0.8814161196599591"
      ]
     },
     "execution_count": 43,
     "metadata": {},
     "output_type": "execute_result"
    }
   ],
   "source": [
    "16382/18586"
   ]
  },
  {
   "cell_type": "code",
   "execution_count": 23,
   "metadata": {},
   "outputs": [
    {
     "data": {
      "text/plain": [
       "[array([-0.33684752, -1.35905661,  3.66162423,  0.66156966,  3.66063351,\n",
       "         2.66056795,  3.66056723,  4.60615456,  1.66003727,  0.60002465,\n",
       "         4.65953896,  4.65943665,  0.65906244, -1.3409998 ,  1.61282647,\n",
       "        -0.41016611]),\n",
       " array([[0., 0., 0., 0., 0., 0., 0., 0., 0., 0., 0., 0., 0., 0., 0., 0.],\n",
       "        [0., 0., 0., 0., 0., 0., 0., 0., 0., 0., 0., 0., 0., 0., 0., 0.],\n",
       "        [0., 0., 0., 0., 0., 0., 0., 0., 0., 0., 0., 0., 0., 0., 0., 0.],\n",
       "        [0., 0., 0., 0., 0., 0., 0., 0., 0., 0., 0., 0., 0., 0., 0., 0.],\n",
       "        [0., 0., 0., 0., 0., 0., 0., 0., 0., 0., 0., 0., 0., 0., 0., 0.],\n",
       "        [0., 0., 0., 0., 0., 0., 0., 0., 0., 0., 0., 0., 0., 0., 0., 0.],\n",
       "        [0., 0., 0., 0., 0., 0., 0., 0., 0., 0., 0., 0., 0., 0., 0., 0.],\n",
       "        [0., 0., 0., 0., 0., 0., 0., 0., 0., 0., 0., 0., 0., 0., 0., 0.],\n",
       "        [0., 0., 0., 0., 0., 0., 0., 0., 0., 0., 0., 0., 0., 0., 0., 0.],\n",
       "        [0., 0., 0., 0., 0., 0., 0., 0., 0., 0., 0., 0., 0., 0., 0., 0.],\n",
       "        [0., 0., 0., 0., 0., 0., 0., 0., 0., 0., 0., 0., 0., 0., 0., 0.],\n",
       "        [0., 0., 0., 0., 0., 0., 0., 0., 0., 0., 0., 0., 0., 0., 0., 0.],\n",
       "        [0., 0., 0., 0., 0., 0., 0., 0., 0., 0., 0., 0., 0., 0., 0., 0.],\n",
       "        [0., 0., 0., 0., 0., 0., 0., 0., 0., 0., 0., 0., 0., 0., 0., 0.],\n",
       "        [0., 0., 0., 0., 0., 0., 0., 0., 0., 0., 0., 0., 0., 0., 0., 0.],\n",
       "        [0., 0., 0., 0., 0., 0., 0., 0., 0., 0., 0., 0., 0., 0., 0., 0.]])]"
      ]
     },
     "execution_count": 23,
     "metadata": {},
     "output_type": "execute_result"
    }
   ],
   "source": [
    "data[()][\"hamiltonian\"][1500]"
   ]
  },
  {
   "cell_type": "code",
   "execution_count": 20,
   "metadata": {},
   "outputs": [
    {
     "name": "stdout",
     "output_type": "stream",
     "text": [
      "2782\n"
     ]
    }
   ],
   "source": [
    "print(len(data[()][\"hamiltonian\"]))"
   ]
  },
  {
   "cell_type": "code",
   "execution_count": null,
   "metadata": {},
   "outputs": [],
   "source": []
  }
 ],
 "metadata": {
  "kernelspec": {
   "display_name": "Python 3",
   "language": "python",
   "name": "python3"
  },
  "language_info": {
   "codemirror_mode": {
    "name": "ipython",
    "version": 3
   },
   "file_extension": ".py",
   "mimetype": "text/x-python",
   "name": "python",
   "nbconvert_exporter": "python",
   "pygments_lexer": "ipython3",
   "version": "3.6.8"
  }
 },
 "nbformat": 4,
 "nbformat_minor": 4
}
