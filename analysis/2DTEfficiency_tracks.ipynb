{
 "cells": [
  {
   "cell_type": "code",
   "execution_count": 1,
   "id": "f25c24cf",
   "metadata": {},
   "outputs": [
    {
     "name": "stdout",
     "output_type": "stream",
     "text": [
      "Welcome to JupyROOT 6.24/06\n"
     ]
    }
   ],
   "source": [
    "import matplotlib.pyplot as plt\n",
    "import ROOT\n",
    "import numpy as np\n"
   ]
  },
  {
   "cell_type": "code",
   "execution_count": 2,
   "id": "626a9d48",
   "metadata": {},
   "outputs": [],
   "source": [
    "binning = [1000.0 + 400 * i for i in range(26)]\n",
    "bins = np.array(binning)"
   ]
  },
  {
   "cell_type": "code",
   "execution_count": 4,
   "id": "b4a82ca0",
   "metadata": {},
   "outputs": [],
   "source": [
    "reco_t = np.load(\"test_results/e0gpc_4.0_0000_sl-example/787478573_bit_flip_only/qubo_log.npy\", \n",
    "                 allow_pickle=True)"
   ]
  },
  {
   "cell_type": "code",
   "execution_count": null,
   "id": "b54b1af0",
   "metadata": {},
   "outputs": [],
   "source": [
    "gen_tracks = ROOT.TH1F('gen_tracks', 'gen_tracks', 25, 1000, 11000)\n",
    "gen_tracks.Sumw2()\n",
    "\n",
    "reco_tracks = ROOT.TH1F('reco_tracks', 'reco_tracks', 25, 1000, 11000)\n",
    "reco_tracks.Sumw2()\n",
    "\n",
    "for i, bin in enumerate(bins):\n",
    "    gen_tracks\n",
    "\n",
    "for i in range(100):\n",
    "    gen_tracks.Fill(i)"
   ]
  },
  {
   "cell_type": "code",
   "execution_count": null,
   "id": "e7fb09eb",
   "metadata": {},
   "outputs": [],
   "source": []
  }
 ],
 "metadata": {
  "kernelspec": {
   "display_name": "Python 3",
   "language": "python",
   "name": "python3"
  },
  "language_info": {
   "codemirror_mode": {
    "name": "ipython",
    "version": 3
   },
   "file_extension": ".py",
   "mimetype": "text/x-python",
   "name": "python",
   "nbconvert_exporter": "python",
   "pygments_lexer": "ipython3",
   "version": "3.6.8"
  }
 },
 "nbformat": 4,
 "nbformat_minor": 5
}
