{
 "cells": [
  {
   "cell_type": "code",
   "execution_count": 2,
   "id": "80520186",
   "metadata": {},
   "outputs": [
    {
     "name": "stdout",
     "output_type": "stream",
     "text": [
      "file e0gpc_7.0_0000_sl-c_4\n",
      "file e0gpc_7.0_0001_sl-c_4\n",
      "file e0gpc_7.0_0002_sl-c_4\n",
      "file e0gpc_7.0_0003_sl-c_4\n",
      "file e0gpc_7.0_0004_sl-c_4\n",
      "file e0gpc_7.0_0005_sl-c_4\n",
      "file e0gpc_7.0_0006_sl-c_4\n",
      "file e0gpc_7.0_0007_sl-c_4\n",
      "file e0gpc_7.0_0008_sl-c_4\n",
      "file e0gpc_7.0_0009_sl-c_4\n"
     ]
    }
   ],
   "source": [
    "import sys\n",
    "import numpy as np\n",
    "import matplotlib.pyplot as plt\n",
    "\n",
    "sys.path.append(\"../src\")\n",
    "for c in range(4, 5):\n",
    "    for j in range(10):\n",
    "        data = np.load(f\"/nfs/dust/luxe/user/spatarod/towards_paper/e-laser/phase-0/gpc/7.0/smeared/e0gpc_7.0_000{j}_sl-c_{c}/triplet_list.npy\", allow_pickle=True)\n",
    "        print(f\"file e0gpc_7.0_000{j}_sl-c_{c}\")\n",
    "\n",
    "        # remove triplet if > 135 conflicts\n",
    "        # remove triplet if quality > 0.8\n",
    "\n",
    "        # remove connection if > -0.92\n",
    "        # remove position >3 in interaction list\n",
    "\n",
    "        for i, triplet in enumerate(data):\n",
    "            # if i % 100000 == 0:\n",
    "            #     print(f\"{i} of {len(data)}\")\n",
    "            if triplet.quality > 0.8:\n",
    "                triplet.quality = 1\n",
    "                for key, value in zip(triplet.interactions.keys(), triplet.interactions.values()):\n",
    "                    triplet.interactions.update({key: 1})\n",
    "                    data[key].interactions.update({triplet.triplet_id: 1})\n",
    "\n",
    "                continue\n",
    "            if list(triplet.interactions.values()).count(1) > 135:\n",
    "                for key, value in zip(triplet.interactions.keys(), triplet.interactions.values()):\n",
    "                    triplet.interactions.update({key: 1})\n",
    "                    data[key].interactions.update({triplet.triplet_id: 1})\n",
    "                triplet.quality = 1\n",
    "                continue\n",
    "            sorted_interactions = list(triplet.interactions.values())\n",
    "            for key, value in zip(triplet.interactions.keys(), triplet.interactions.values()):\n",
    "                if value > -0.92:\n",
    "                    triplet.interactions.update({key: 1})\n",
    "                    data[key].interactions.update({triplet.triplet_id: 1})\n",
    "                elif len(sorted_interactions) > 2:\n",
    "                    if sorted_interactions[2] < 0:\n",
    "                        if value > sorted_interactions[2]:\n",
    "                            triplet.interactions.update({key: 1})\n",
    "                            data[key].interactions.update({triplet.triplet_id: 1})\n",
    "\n",
    "        np.save(f\"/nfs/dust/luxe/user/spatarod/towards_paper/e-laser/phase-0/gpc/7.0/smeared/e0gpc_7.0_000{j}_sl-c{c}_v2/triplet_list.npy\", data)"
   ]
  },
  {
   "cell_type": "code",
   "execution_count": null,
   "id": "e13e822a",
   "metadata": {},
   "outputs": [],
   "source": []
  }
 ],
 "metadata": {
  "kernelspec": {
   "display_name": "Python 3",
   "language": "python",
   "name": "python3"
  },
  "language_info": {
   "codemirror_mode": {
    "name": "ipython",
    "version": 3
   },
   "file_extension": ".py",
   "mimetype": "text/x-python",
   "name": "python",
   "nbconvert_exporter": "python",
   "pygments_lexer": "ipython3",
   "version": "3.6.8"
  }
 },
 "nbformat": 4,
 "nbformat_minor": 5
}
