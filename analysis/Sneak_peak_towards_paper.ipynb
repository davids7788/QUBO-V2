{
 "cells": [
  {
   "cell_type": "code",
   "execution_count": 63,
   "id": "b2c2adf8",
   "metadata": {},
   "outputs": [],
   "source": [
    "import os\n",
    "import matplotlib.pyplot as plt\n",
    "import numpy as np\n",
    "import sys\n",
    "sys.path.append(\"../src\")"
   ]
  },
  {
   "cell_type": "code",
   "execution_count": 64,
   "id": "fff8cbd6",
   "metadata": {},
   "outputs": [],
   "source": [
    "preselection_configs = [file for file in os.listdir(\"/afs/desy.de/user/s/spatarod/QUBO-V2/configuration/preselection/\") \n",
    "                        if \"c_\" in file]\n",
    "qubo_configs = [file for file in os.listdir(\"/afs/desy.de/user/s/spatarod/QUBO-V2/configuration/qubo/\") \n",
    "                if \".ipynb\" not in file]"
   ]
  },
  {
   "cell_type": "code",
   "execution_count": 65,
   "id": "b93e9ad5",
   "metadata": {},
   "outputs": [
    {
     "data": {
      "text/plain": [
       "['bit_flip.yaml',\n",
       " 'eigensolver_7q_alt_version_2.yaml',\n",
       " 'eigensolver_7q.yaml',\n",
       " 'eigensolver_16q.yaml',\n",
       " 'eigensolver_7q_alt_version_3.yaml',\n",
       " 'eigensolver_7q_alt_version_5.yaml',\n",
       " 'eigensolver_1q.yaml',\n",
       " 'eigensolver_7q_alt_version_1.yaml',\n",
       " 'VQE_IdealQasmSim_7q_TwoLocal_SPSA.yaml',\n",
       " 'bit_flip_alt_version_3.yaml',\n",
       " 'bit_flip_alt_version_1.yaml',\n",
       " 'bit_flip_alt_version_4.yaml',\n",
       " 'eigensolver_7q_alt_version_4.yaml',\n",
       " 'bit_flip_alt_version_5.yaml',\n",
       " 'eigensolver_7q_merged_cluster.yaml',\n",
       " 'bit_flip_alt_version_2.yaml',\n",
       " 'VQE_IdealQasmSim_7q_TwoLocal_NFT.yaml',\n",
       " 'eigensolver_5q.yaml',\n",
       " 'VQE_IdealQasmSim_7q_TwoLocal_COBYLA.yaml',\n",
       " 'eigensolver_10q.yaml',\n",
       " 'eigensolver_12q.yaml',\n",
       " 'eigensolver_3q.yaml']"
      ]
     },
     "execution_count": 65,
     "metadata": {},
     "output_type": "execute_result"
    }
   ],
   "source": [
    "qubo_configs"
   ]
  },
  {
   "cell_type": "code",
   "execution_count": 74,
   "id": "abf2240a",
   "metadata": {},
   "outputs": [],
   "source": [
    "prefix = \"/nfs/dust/luxe/user/spatarod/towards_paper/e-laser/phase-0/gpc/\"\n",
    "xi = 4.0\n",
    "preselection = \"-c_3\"\n",
    "qubo_config = \"eigensolver_3q\" \n",
    "matched_definition = 3\n",
    "\n",
    "def get_efficiency(reco, gen, num_hits_from_same_particle):\n",
    "    reco = np.load(reco, allow_pickle=True)\n",
    "    gen = np.load(gen, allow_pickle=True)\n",
    "    fake = 0\n",
    "    matched = set()\n",
    "    for xplet in reco:\n",
    "        matched_xplet = False\n",
    "        for particle in set(xplet.particle_ids.values()):\n",
    "            if list(xplet.particle_ids.values()).count(particle) >= num_hits_from_same_particle:\n",
    "                matched_xplet = True\n",
    "        if matched_xplet:\n",
    "            matched.add(particle)\n",
    "        else:\n",
    "            fake += 1\n",
    "    return len(matched) / len(gen), fake / len(reco)"
   ]
  },
  {
   "cell_type": "code",
   "execution_count": 75,
   "id": "5882f1e0",
   "metadata": {},
   "outputs": [
    {
     "name": "stdout",
     "output_type": "stream",
     "text": [
      "xi = 4.0\n",
      "Efficiency nan +/- nan\n",
      "Fake rate: nan +/- nan\n"
     ]
    }
   ],
   "source": [
    "efficiency = []\n",
    "fake_rate = []\n",
    "\n",
    "for folder in os.listdir(f\"{prefix}{xi}/smeared/\"):\n",
    "    if preselection in folder:\n",
    "        for qubo in os.listdir(f\"{prefix}{xi}/smeared/{folder}\"):\n",
    "            if \"_\".join(qubo.split(\"_\")[1:]) == qubo_config:\n",
    "                bx = folder.split(\"_\")[2]\n",
    "                try:\n",
    "                    # print(f\"{prefix}{xi}/smeared/{folder}/{qubo}\")\n",
    "                    eff, fake = get_efficiency(f\"{prefix}{xi}/smeared/{folder}/{qubo}/reco_xplet_list.npy\",\n",
    "                                               f\"{prefix}{xi}/e0gpc_{xi}_{bx}_sl_gen_xplet_list.npy\",\n",
    "                                               matched_definition)\n",
    "                    efficiency.append(eff)\n",
    "                    fake_rate.append(fake)\n",
    "                except:\n",
    "                    pass\n",
    "print(f\"xi = {xi}\")\n",
    "print(f\"Efficiency {np.around(np.mean(efficiency), 3)}\", \"+/-\", np.around(np.std(efficiency), 3))\n",
    "print(f\"Fake rate: {np.around(np.mean(fake_rate), 3)}\", \"+/-\", np.around(np.std(fake_rate), 3))"
   ]
  },
  {
   "cell_type": "code",
   "execution_count": null,
   "id": "99d9a20d",
   "metadata": {},
   "outputs": [],
   "source": []
  }
 ],
 "metadata": {
  "kernelspec": {
   "display_name": "Python 3",
   "language": "python",
   "name": "python3"
  },
  "language_info": {
   "codemirror_mode": {
    "name": "ipython",
    "version": 3
   },
   "file_extension": ".py",
   "mimetype": "text/x-python",
   "name": "python",
   "nbconvert_exporter": "python",
   "pygments_lexer": "ipython3",
   "version": "3.6.8"
  }
 },
 "nbformat": 4,
 "nbformat_minor": 5
}
