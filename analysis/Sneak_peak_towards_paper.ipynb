{
 "cells": [
  {
   "cell_type": "code",
   "execution_count": 7,
   "id": "b2c2adf8",
   "metadata": {},
   "outputs": [],
   "source": [
    "import os\n",
    "import matplotlib.pyplot as plt\n",
    "import numpy as np\n",
    "import sys\n",
    "sys.path.append(\"../src\")"
   ]
  },
  {
   "cell_type": "code",
   "execution_count": 8,
   "id": "fff8cbd6",
   "metadata": {},
   "outputs": [],
   "source": [
    "preselection_configs = [file for file in os.listdir(\"/afs/desy.de/user/s/spatarod/QUBO-V2/configuration/preselection/\") \n",
    "                        if \"c_\" in file]\n",
    "qubo_configs = [file for file in os.listdir(\"/afs/desy.de/user/s/spatarod/QUBO-V2/configuration/qubo/\") \n",
    "                if \".ipynb\" not in file]"
   ]
  },
  {
   "cell_type": "code",
   "execution_count": 9,
   "id": "b93e9ad5",
   "metadata": {},
   "outputs": [
    {
     "data": {
      "text/plain": [
       "['bit_flip.yaml',\n",
       " 'VQE_IdealQasmSim_10q_TwoLocal_NFT.yaml',\n",
       " 'VQE_IdealQasmSim_12q_TwoLocal_NFT.yaml',\n",
       " 'VQE_IdealQasmSim_16q_TwoLocal_NFT.yaml',\n",
       " 'VQE_IdealQasmSim_3q_TwoLocal_NFT.yaml',\n",
       " 'VQE_IdealQasmSim_5q_TwoLocal_NFT.yaml',\n",
       " 'VQE_IdealQasmSim_7q_TwoLocal_COBYLA.yaml',\n",
       " 'VQE_IdealQasmSim_7q_TwoLocal_NFT_circular.yaml',\n",
       " 'VQE_IdealQasmSim_7q_TwoLocal_NFT_circular_deep.yaml',\n",
       " 'VQE_IdealQasmSim_7q_TwoLocal_NFT_full.yaml',\n",
       " 'VQE_IdealQasmSim_7q_TwoLocal_NFT_full_deep.yaml',\n",
       " 'VQE_IdealQasmSim_7q_TwoLocal_NFT_linear.yaml',\n",
       " 'VQE_IdealQasmSim_7q_TwoLocal_NFT_linear_deep.yaml',\n",
       " 'VQE_IdealQasmSim_7q_TwoLocal_SPSA.yaml',\n",
       " 'bit_flip_alt_version_1.yaml',\n",
       " 'bit_flip_alt_version_2.yaml',\n",
       " 'bit_flip_alt_version_3.yaml',\n",
       " 'bit_flip_alt_version_4.yaml',\n",
       " 'bit_flip_alt_version_5.yaml',\n",
       " 'eigensolver_10q.yaml',\n",
       " 'eigensolver_12q.yaml',\n",
       " 'eigensolver_16q.yaml',\n",
       " 'eigensolver_1q.yaml',\n",
       " 'eigensolver_3q.yaml',\n",
       " 'eigensolver_5q.yaml',\n",
       " 'eigensolver_7q.yaml',\n",
       " 'eigensolver_7q_alt_version_1.yaml',\n",
       " 'eigensolver_7q_alt_version_2.yaml',\n",
       " 'eigensolver_7q_alt_version_3.yaml',\n",
       " 'eigensolver_7q_alt_version_4.yaml',\n",
       " 'eigensolver_7q_alt_version_5.yaml',\n",
       " 'eigensolver_7q_merged_cluster.yaml']"
      ]
     },
     "execution_count": 9,
     "metadata": {},
     "output_type": "execute_result"
    }
   ],
   "source": [
    "qubo_configs"
   ]
  },
  {
   "cell_type": "code",
   "execution_count": 36,
   "id": "abf2240a",
   "metadata": {},
   "outputs": [],
   "source": [
    "prefix = \"/nfs/dust/luxe/user/spatarod/towards_paper/e-laser/phase-0/gpc/\"\n",
    "xi = 3.0\n",
    "preselection = \"-c_4\"\n",
    "qubo_config = \"eigensolver_7q\" \n",
    "matched_definition = 3\n",
    "\n",
    "def get_process_time(file):\n",
    "    data = np.load(file, allow_pickle=True)\n",
    "    print(len(list(data[()][\"truth solution vector\"])))\n",
    "    return data[()][\"time tracking complete\"][\"complete run\"], list(data[()][\"time tracking subQUBOs\"].values())\n",
    "    \n",
    "\n",
    "def get_efficiency(reco, gen, num_hits_from_same_particle):\n",
    "    xplet_map = {}\n",
    "    \n",
    "    reco = np.load(reco, allow_pickle=True)    \n",
    "    gen = np.load(gen, allow_pickle=True)\n",
    "    \n",
    "    reco_temp = []                             \n",
    "    reco_numbers = set()                      \n",
    "    \n",
    "    for number, xplet in enumerate(reco):  \n",
    "        for hit_id in xplet.hit_ids.values():         \n",
    "            if hit_id in xplet_map.keys():            \n",
    "                values = xplet_map[hit_id]            \n",
    "                values.append(number)                 \n",
    "                xplet_map.update({hit_id: values})\n",
    "            else:\n",
    "                xplet_map.update({hit_id: [number]})\n",
    "     \n",
    "    for reco_xplet in reco:\n",
    "        unique = True\n",
    "        for hit_id in reco_xplet.hit_ids.values():\n",
    "            if len(list(xplet_map[hit_id])) > 1:\n",
    "                unique = False\n",
    "\n",
    "        if unique:\n",
    "            reco_temp.append(reco_xplet)\n",
    "    reco_temp = reco\n",
    "    fake = 0\n",
    "    matched = set()\n",
    "    \n",
    "    for xplet in reco_temp:\n",
    "        matched_xplet = False\n",
    "        for particle in set(xplet.particle_ids.values()):\n",
    "            if list(xplet.particle_ids.values()).count(particle) >= num_hits_from_same_particle:\n",
    "                matched_xplet = True\n",
    "        if matched_xplet:\n",
    "            matched.add(particle)\n",
    "        else:\n",
    "            fake += 1\n",
    "    return len(matched) / len(gen), fake / len(reco)"
   ]
  },
  {
   "cell_type": "code",
   "execution_count": 37,
   "id": "5882f1e0",
   "metadata": {},
   "outputs": [
    {
     "name": "stdout",
     "output_type": "stream",
     "text": [
      "/nfs/dust/luxe/user/spatarod/towards_paper/e-laser/phase-0/gpc/3.0/smeared/e0gpc_3.0_0008_sl-c_4/386678389_eigensolver_7q\n",
      "/nfs/dust/luxe/user/spatarod/towards_paper/e-laser/phase-0/gpc/3.0/smeared/e0gpc_3.0_0006_sl-c_4/442363015_eigensolver_7q\n",
      "/nfs/dust/luxe/user/spatarod/towards_paper/e-laser/phase-0/gpc/3.0/smeared/e0gpc_3.0_0003_sl-c_4/430362797_eigensolver_7q\n",
      "/nfs/dust/luxe/user/spatarod/towards_paper/e-laser/phase-0/gpc/3.0/smeared/e0gpc_3.0_0009_sl-c_4/482239023_eigensolver_7q\n",
      "/nfs/dust/luxe/user/spatarod/towards_paper/e-laser/phase-0/gpc/3.0/smeared/e0gpc_3.0_0000_sl-c_4/510758538_eigensolver_7q\n",
      "/nfs/dust/luxe/user/spatarod/towards_paper/e-laser/phase-0/gpc/3.0/smeared/e0gpc_3.0_0001_sl-c_4/596569879_eigensolver_7q\n",
      "/nfs/dust/luxe/user/spatarod/towards_paper/e-laser/phase-0/gpc/3.0/smeared/e0gpc_3.0_0002_sl-c_4/780648100_eigensolver_7q\n",
      "/nfs/dust/luxe/user/spatarod/towards_paper/e-laser/phase-0/gpc/3.0/smeared/e0gpc_3.0_0004_sl-c_4/801872441_eigensolver_7q\n",
      "/nfs/dust/luxe/user/spatarod/towards_paper/e-laser/phase-0/gpc/3.0/smeared/e0gpc_3.0_0007_sl-c_4/988529414_eigensolver_7q\n",
      "/nfs/dust/luxe/user/spatarod/towards_paper/e-laser/phase-0/gpc/3.0/smeared/e0gpc_3.0_0005_sl-c_4/247133265_eigensolver_7q\n",
      "xi = 3.0\n",
      "Efficiency 0.993 +/- 0.005\n",
      "Fake rate: 0.001 +/- 0.002\n"
     ]
    }
   ],
   "source": [
    "efficiency = []\n",
    "fake_rate = []\n",
    "\n",
    "for folder in os.listdir(f\"{prefix}{xi}/smeared/\"):\n",
    "    if preselection in folder:\n",
    "        for qubo in os.listdir(f\"{prefix}{xi}/smeared/{folder}\"):\n",
    "            if \"_\".join(qubo.split(\"_\")[1:]) == qubo_config:\n",
    "                bx = folder.split(\"_\")[2]\n",
    "                print(f\"{prefix}{xi}/smeared/{folder}/{qubo}\")\n",
    "                eff, fake = get_efficiency(f\"{prefix}{xi}/smeared/{folder}/{qubo}/reco_xplet_list_v2.npy\",\n",
    "                                           f\"{prefix}{xi}/e0gpc_{xi}_{bx}_sl_gen_xplet_list.npy\",\n",
    "                                           matched_definition)\n",
    "                efficiency.append(eff)\n",
    "                fake_rate.append(fake)\n",
    "\n",
    "print(f\"xi = {xi}\")\n",
    "print(f\"Efficiency {np.around(np.mean(efficiency), 3)}\", \"+/-\", np.around(np.std(efficiency), 3))\n",
    "print(f\"Fake rate: {np.around(np.mean(fake_rate), 3)}\", \"+/-\", np.around(np.std(fake_rate), 3))"
   ]
  },
  {
   "cell_type": "code",
   "execution_count": 16,
   "id": "546f0dc9",
   "metadata": {},
   "outputs": [
    {
     "name": "stdout",
     "output_type": "stream",
     "text": [
      "/nfs/dust/luxe/user/spatarod/towards_paper/e-laser/phase-0/gpc/5.0/smeared/e0gpc_5.0_0001_sl-c_4/545090974_VQE_IdealQasmSim_7q_TwoLocal_NFT\n",
      "/nfs/dust/luxe/user/spatarod/towards_paper/e-laser/phase-0/gpc/5.0/smeared/e0gpc_5.0_0001_sl-c_4/545090974_VQE_IdealQasmSim_7q_TwoLocal_NFT\n",
      "/nfs/dust/luxe/user/spatarod/towards_paper/e-laser/phase-0/gpc/5.0/smeared/e0gpc_5.0_0004_sl-c_4/981100586_VQE_IdealQasmSim_7q_TwoLocal_NFT\n",
      "/nfs/dust/luxe/user/spatarod/towards_paper/e-laser/phase-0/gpc/5.0/smeared/e0gpc_5.0_0004_sl-c_4/981100586_VQE_IdealQasmSim_7q_TwoLocal_NFT\n",
      "/nfs/dust/luxe/user/spatarod/towards_paper/e-laser/phase-0/gpc/5.0/smeared/e0gpc_5.0_0000_sl-c_4/720797590_VQE_IdealQasmSim_7q_TwoLocal_NFT\n",
      "/nfs/dust/luxe/user/spatarod/towards_paper/e-laser/phase-0/gpc/5.0/smeared/e0gpc_5.0_0000_sl-c_4/720797590_VQE_IdealQasmSim_7q_TwoLocal_NFT\n",
      "/nfs/dust/luxe/user/spatarod/towards_paper/e-laser/phase-0/gpc/5.0/smeared/e0gpc_5.0_0002_sl-c_4/620571882_VQE_IdealQasmSim_7q_TwoLocal_NFT\n",
      "/nfs/dust/luxe/user/spatarod/towards_paper/e-laser/phase-0/gpc/5.0/smeared/e0gpc_5.0_0002_sl-c_4/620571882_VQE_IdealQasmSim_7q_TwoLocal_NFT\n",
      "/nfs/dust/luxe/user/spatarod/towards_paper/e-laser/phase-0/gpc/5.0/smeared/e0gpc_5.0_0009_sl-c_4/513172967_VQE_IdealQasmSim_7q_TwoLocal_NFT\n",
      "/nfs/dust/luxe/user/spatarod/towards_paper/e-laser/phase-0/gpc/5.0/smeared/e0gpc_5.0_0009_sl-c_4/513172967_VQE_IdealQasmSim_7q_TwoLocal_NFT\n",
      "/nfs/dust/luxe/user/spatarod/towards_paper/e-laser/phase-0/gpc/5.0/smeared/e0gpc_5.0_0006_sl-c_4/608570613_VQE_IdealQasmSim_7q_TwoLocal_NFT\n",
      "/nfs/dust/luxe/user/spatarod/towards_paper/e-laser/phase-0/gpc/5.0/smeared/e0gpc_5.0_0006_sl-c_4/608570613_VQE_IdealQasmSim_7q_TwoLocal_NFT\n",
      "/nfs/dust/luxe/user/spatarod/towards_paper/e-laser/phase-0/gpc/5.0/smeared/e0gpc_5.0_0008_sl-c_4/169492336_VQE_IdealQasmSim_7q_TwoLocal_NFT\n",
      "/nfs/dust/luxe/user/spatarod/towards_paper/e-laser/phase-0/gpc/5.0/smeared/e0gpc_5.0_0008_sl-c_4/169492336_VQE_IdealQasmSim_7q_TwoLocal_NFT\n",
      "/nfs/dust/luxe/user/spatarod/towards_paper/e-laser/phase-0/gpc/5.0/smeared/e0gpc_5.0_0003_sl-c_4/297420326_VQE_IdealQasmSim_7q_TwoLocal_NFT\n",
      "/nfs/dust/luxe/user/spatarod/towards_paper/e-laser/phase-0/gpc/5.0/smeared/e0gpc_5.0_0003_sl-c_4/297420326_VQE_IdealQasmSim_7q_TwoLocal_NFT\n",
      "/nfs/dust/luxe/user/spatarod/towards_paper/e-laser/phase-0/gpc/5.0/smeared/e0gpc_5.0_0007_sl-c_4/930440733_VQE_IdealQasmSim_7q_TwoLocal_NFT\n",
      "/nfs/dust/luxe/user/spatarod/towards_paper/e-laser/phase-0/gpc/5.0/smeared/e0gpc_5.0_0007_sl-c_4/930440733_VQE_IdealQasmSim_7q_TwoLocal_NFT\n",
      "/nfs/dust/luxe/user/spatarod/towards_paper/e-laser/phase-0/gpc/5.0/smeared/e0gpc_5.0_0005_sl-c_4/578360183_VQE_IdealQasmSim_7q_TwoLocal_NFT\n",
      "/nfs/dust/luxe/user/spatarod/towards_paper/e-laser/phase-0/gpc/5.0/smeared/e0gpc_5.0_0005_sl-c_4/578360183_VQE_IdealQasmSim_7q_TwoLocal_NFT\n",
      "xi = 5.0\n",
      "Efficiency nan +/- nan\n",
      "Fake rate: nan +/- nan\n"
     ]
    },
    {
     "name": "stderr",
     "output_type": "stream",
     "text": [
      "/usr/local/lib64/python3.6/site-packages/numpy/core/fromnumeric.py:3373: RuntimeWarning: Mean of empty slice.\n",
      "  out=out, **kwargs)\n",
      "/usr/local/lib64/python3.6/site-packages/numpy/core/_methods.py:170: RuntimeWarning: invalid value encountered in double_scalars\n",
      "  ret = ret.dtype.type(ret / rcount)\n",
      "/usr/local/lib64/python3.6/site-packages/numpy/core/_methods.py:234: RuntimeWarning: Degrees of freedom <= 0 for slice\n",
      "  keepdims=keepdims)\n",
      "/usr/local/lib64/python3.6/site-packages/numpy/core/_methods.py:195: RuntimeWarning: invalid value encountered in true_divide\n",
      "  arrmean, rcount, out=arrmean, casting='unsafe', subok=False)\n",
      "/usr/local/lib64/python3.6/site-packages/numpy/core/_methods.py:226: RuntimeWarning: invalid value encountered in double_scalars\n",
      "  ret = ret.dtype.type(ret / rcount)\n"
     ]
    }
   ],
   "source": [
    "efficiency = []\n",
    "fake_rate = []\n",
    "\n",
    "for folder in os.listdir(f\"{prefix}{xi}/smeared/\"):\n",
    "    if preselection in folder:\n",
    "        for qubo in os.listdir(f\"{prefix}{xi}/smeared/{folder}\"):\n",
    "            if \"_\".join(qubo.split(\"_\")[1:]) == qubo_config:\n",
    "                bx = folder.split(\"_\")[2]\n",
    "                try:\n",
    "                    print(f\"{prefix}{xi}/smeared/{folder}/{qubo}\")\n",
    "                    eff, fake = get_efficiency(f\"{prefix}{xi}/smeared/{folder}/{qubo}/reco_xplet_list_22.npy\",\n",
    "                                               f\"{prefix}{xi}/e0gpc_{xi}_{bx}_sl_gen_xplet_list.npy\",\n",
    "                                               matched_definition)\n",
    "                    efficiency.append(eff)\n",
    "                    fake_rate.append(fake)\n",
    "                except:\n",
    "                    print(f\"{prefix}{xi}/smeared/{folder}/{qubo}\")\n",
    "                    pass\n",
    "print(f\"xi = {xi}\")\n",
    "print(f\"Efficiency {np.around(np.mean(efficiency), 3)}\", \"+/-\", np.around(np.std(efficiency), 3))\n",
    "print(f\"Fake rate: {np.around(np.mean(fake_rate), 3)}\", \"+/-\", np.around(np.std(fake_rate), 3))"
   ]
  },
  {
   "cell_type": "markdown",
   "id": "3973953e",
   "metadata": {},
   "source": [
    "size = 1:\n",
    "Efficiency 0.931 +/- 0.002\n",
    "Fake rate: 0.296 +/- 0.009\n",
    "\n",
    "size = 3\n",
    "Efficiency 0.929 +/- 0.003\n",
    "Fake rate: 0.03 +/- 0.002\n",
    "\n",
    "size = 5:\n",
    "Efficiency 0.929 +/- 0.003\n",
    "Fake rate: 0.03 +/- 0.002\n",
    "\n",
    "size = 7:\n",
    "Efficiency 0.929 +/- 0.004\n",
    "Fake rate: 0.03 +/- 0.002\n",
    "\n",
    "size = 10:\n",
    "Efficiency 0.929 +/- 0.004\n",
    "Fake rate: 0.03 +/- 0.002\n",
    "\n",
    "size = 12:\n",
    "Efficiency 0.929 +/- 0.003\n",
    "Fake rate: 0.03 +/- 0.002\n",
    "\n",
    "size = 16:\n",
    "Efficiency 0.929 +/- 0.003\n",
    "Fake rate: 0.03 +/- 0.002"
   ]
  },
  {
   "cell_type": "code",
   "execution_count": null,
   "id": "49593dc3",
   "metadata": {},
   "outputs": [],
   "source": [
    "complete_time = []\n",
    "sub_QUBO_time = []\n",
    "\n",
    "\n",
    "for folder in os.listdir(f\"{prefix}{xi}/smeared/\"):\n",
    "    if preselection in folder:\n",
    "        for qubo in os.listdir(f\"{prefix}{xi}/smeared/{folder}\"):\n",
    "            if \"_\".join(qubo.split(\"_\")[1:]) == qubo_config:\n",
    "                bx = folder.split(\"_\")[2]\n",
    "                try:\n",
    "                    print(f\"{prefix}{xi}/smeared/{folder}/{qubo}\")\n",
    "                    complete, sub_QUBO = get_process_time(f\"{prefix}{xi}/smeared/{folder}/{qubo}/qubo_log.npy\")\n",
    "                    \n",
    "                    complete_time.append(complete)\n",
    "                    for sub in sub_QUBO:\n",
    "                        sub_QUBO_time.append(sub)\n",
    "                except:\n",
    "                    pass\n",
    "                #     print(f\"{prefix}{xi}/smeared/{folder}/{qubo}\")\n",
    "                #     pass\n",
    "print(f\"xi = {xi}\")\n",
    "print(f\"Complete {np.around(np.mean(complete_time), 4)}\", \"+/-\", np.around(np.std(complete_time), 9))\n",
    "print(f\"sub-QUBO: {np.around(np.mean(sub_QUBO_time), 4)}\", \"+/-\", np.around(np.std(sub_QUBO_time), 3))\n",
    "print(complete_time)"
   ]
  },
  {
   "cell_type": "code",
   "execution_count": 34,
   "metadata": {},
   "outputs": [],
   "source": [
    "prefix = \"/nfs/dust/luxe/user/spatarod/towards_paper/e-laser/phase-0/gpc/\"\n",
    "xi = 3.0\n",
    "\n",
    "\n",
    "data = np.load(f\"{prefix}{xi}/e0gpc_{xi}_00{90}_sl_gen_xplet_list.npy\", allow_pickle=True)"
   ]
  },
  {
   "cell_type": "code",
   "execution_count": 37,
   "metadata": {},
   "outputs": [
    {
     "name": "stdout",
     "output_type": "stream",
     "text": [
      "125\n"
     ]
    }
   ],
   "source": [
    "print(len(data))"
   ]
  },
  {
   "cell_type": "code",
   "execution_count": null,
   "metadata": {},
   "outputs": [],
   "source": []
  },
  {
   "cell_type": "code",
   "execution_count": null,
   "metadata": {},
   "outputs": [],
   "source": []
  }
 ],
 "metadata": {
  "kernelspec": {
   "display_name": "Python 3",
   "language": "python",
   "name": "python3"
  },
  "language_info": {
   "codemirror_mode": {
    "name": "ipython",
    "version": 3
   },
   "file_extension": ".py",
   "mimetype": "text/x-python",
   "name": "python",
   "nbconvert_exporter": "python",
   "pygments_lexer": "ipython3",
   "version": "3.6.8"
  }
 },
 "nbformat": 4,
 "nbformat_minor": 5
}
