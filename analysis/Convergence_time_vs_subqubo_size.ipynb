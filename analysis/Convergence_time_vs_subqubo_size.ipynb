{
 "cells": [
  {
   "cell_type": "code",
   "execution_count": 26,
   "metadata": {},
   "outputs": [],
   "source": [
    "import matplotlib.pyplot as plt\n",
    "import numpy as np\n",
    "import sys\n",
    "import os\n",
    "sys.path.append(\"../src\")"
   ]
  },
  {
   "cell_type": "code",
   "execution_count": 27,
   "metadata": {},
   "outputs": [
    {
     "data": {
      "text/plain": [
       "['VQE_IdealQasmSim_3q_TwoLocal_NFT.yaml',\n",
       " 'VQE_IdealQasmSim_5q_TwoLocal_NFT.yaml',\n",
       " 'VQE_IdealQasmSim_7q_TwoLocal_NFT.yaml',\n",
       " ' VQE_IdealQasmSim_10q_TwoLocal_NFT.yaml']"
      ]
     },
     "execution_count": 27,
     "metadata": {},
     "output_type": "execute_result"
    }
   ],
   "source": [
    "preselection_configs = [file for file in os.listdir(\"/afs/desy.de/user/s/spatarod/QUBO-V2/configuration/preselection/\") \n",
    "                        if \"c_\" in file]\n",
    "qubo_configs = ['VQE_IdealQasmSim_3q_TwoLocal_NFT.yaml',\n",
    "                'VQE_IdealQasmSim_5q_TwoLocal_NFT.yaml',\n",
    "                'VQE_IdealQasmSim_7q_TwoLocal_NFT.yaml',\n",
    "               ' VQE_IdealQasmSim_10q_TwoLocal_NFT.yaml']\n",
    "qubo_configs"
   ]
  },
  {
   "cell_type": "code",
   "execution_count": 32,
   "metadata": {},
   "outputs": [],
   "source": [
    "prefix = \"/nfs/dust/luxe/user/spatarod/towards_paper/e-laser/phase-0/gpc/\"\n",
    "xi = 5.0\n",
    "preselection = \"-c_4\"\n",
    "\n",
    "minimum_energy_3_q = []\n",
    "minimum_energy_5_q = []\n",
    "minimum_energy_7_q = []\n",
    "minimum_energy_10_q = []\n",
    "\n",
    "iteration_for_95_energy_3_q = []\n",
    "iteration_for_95_energy_5_q = []\n",
    "iteration_for_95_energy_7_q = []\n",
    "iteration_for_95_energy_10_q = []\n",
    "\n",
    "iteration_time_3_q = []\n",
    "iteration_time_5_q = []\n",
    "iteration_time_7_q = []\n",
    "iteration_time_10_q = []\n",
    "\n",
    "\n",
    "  \n",
    "threshold = 0.95\n",
    "\n",
    "\n",
    "for folder in os.listdir(f\"{prefix}{xi}/smeared/\"):\n",
    "    if preselection in folder:\n",
    "        for qubo in os.listdir(f\"{prefix}{xi}/smeared/{folder}\"):\n",
    "            if \"_\".join(qubo.split(\"_\")[1:]) in [qubo_config.split(\".\")[0] for qubo_config in qubo_configs]:\n",
    "                data = np.load(f\"{prefix}{xi}/smeared/{folder}/{qubo}/qubo_log.npy\", allow_pickle=True)\n",
    "                if \"3q\" in qubo:\n",
    "                    minimum_energy_3_q.append(data[()][\"truth minimum energy\"])\n",
    "                    for iteration, energy, time in zip(data[()][\"energy\"].keys(), \n",
    "                                                       data[()][\"energy\"].values(),\n",
    "                                                       data[()][\"time tracking qubo iteration\"].values()):\n",
    "                        if energy / data[()][\"truth minimum energy\"] > threshold:\n",
    "                            iteration_for_95_energy_3_q.append(int(iteration)) \n",
    "                            iteration_time_3_q.append(time)\n",
    "                            break\n",
    "                if \"5q\" in qubo:\n",
    "                    minimum_energy_5_q.append(data[()][\"truth minimum energy\"])\n",
    "                    for iteration, energy, time in zip(data[()][\"energy\"].keys(), \n",
    "                                                       data[()][\"energy\"].values(),\n",
    "                                                       data[()][\"time tracking qubo iteration\"].values()):\n",
    "                        if energy / data[()][\"truth minimum energy\"] > threshold:\n",
    "                            iteration_for_95_energy_5_q.append(int(iteration))\n",
    "                            iteration_time_5_q.append(time)                  \n",
    "                            break\n",
    "                if \"7q\" in qubo:\n",
    "                    minimum_energy_7_q.append(data[()][\"truth minimum energy\"])   \n",
    "                    for iteration, energy, time in zip(data[()][\"energy\"].keys(), \n",
    "                                                       data[()][\"energy\"].values(),\n",
    "                                                       data[()][\"time tracking qubo iteration\"].values()):\n",
    "                        if energy / data[()][\"truth minimum energy\"] > threshold:\n",
    "                            iteration_for_95_energy_7_q.append(int(iteration))\n",
    "                            iteration_time_7_q.append(time)                   \n",
    "                            break\n",
    "                if \"10q\" in qubo:\n",
    "                    minimum_energy_10_q.append(data[()][\"truth minimum energy\"])   \n",
    "                    for iteration, energy, time in zip(data[()][\"energy\"].keys(), \n",
    "                                                       data[()][\"energy\"].values(),\n",
    "                                                       data[()][\"time tracking qubo iteration\"].values()):\n",
    "                        if energy / data[()][\"truth minimum energy\"] > threshold:\n",
    "                            iteration_for_95_energy_10_q.append(int(iteration))\n",
    "                            iteration_time_10_q.append(time)                   \n",
    "                            break                   "
   ]
  },
  {
   "cell_type": "code",
   "execution_count": 33,
   "metadata": {},
   "outputs": [],
   "source": [
    "def hms_string(sec_elapsed):\n",
    "    \"\"\"Nicely formatted time string.\n",
    "    :param sec_elapsed time in ms\n",
    "    :return\n",
    "    hh:mm:ss.msms\n",
    "    \"\"\"\n",
    "    h = int(sec_elapsed / (60 * 60))\n",
    "    m = int((sec_elapsed % (60 * 60)) / 60)\n",
    "    s = sec_elapsed % 60\n",
    "    return \"{}:{:>02}:{:>05.2f}\".format(h, m, s)"
   ]
  },
  {
   "cell_type": "code",
   "execution_count": 34,
   "metadata": {},
   "outputs": [
    {
     "data": {
      "text/plain": [
       "[]"
      ]
     },
     "execution_count": 34,
     "metadata": {},
     "output_type": "execute_result"
    }
   ],
   "source": []
  },
  {
   "cell_type": "code",
   "execution_count": 30,
   "metadata": {},
   "outputs": [
    {
     "name": "stdout",
     "output_type": "stream",
     "text": [
      "Convergence time (reaching < 95% ground state energy) in hh:mm:ss.msms\n",
      "Sub-QUBO size = 3: 3:07:42.73\n",
      "Sub-QUBO size = 5: 1:43:17.13\n",
      "Sub-QUBO size = 7: 1:26:42.99\n"
     ]
    },
    {
     "name": "stderr",
     "output_type": "stream",
     "text": [
      "/usr/local/lib64/python3.6/site-packages/numpy/core/fromnumeric.py:3373: RuntimeWarning: Mean of empty slice.\n",
      "  out=out, **kwargs)\n",
      "/usr/local/lib64/python3.6/site-packages/numpy/core/_methods.py:170: RuntimeWarning: invalid value encountered in double_scalars\n",
      "  ret = ret.dtype.type(ret / rcount)\n"
     ]
    },
    {
     "ename": "ValueError",
     "evalue": "cannot convert float NaN to integer",
     "output_type": "error",
     "traceback": [
      "\u001b[0;31m---------------------------------------------------------------------------\u001b[0m",
      "\u001b[0;31mValueError\u001b[0m                                Traceback (most recent call last)",
      "\u001b[0;32m<ipython-input-30-103fddc8fa85>\u001b[0m in \u001b[0;36m<module>\u001b[0;34m\u001b[0m\n\u001b[1;32m      3\u001b[0m \u001b[0mprint\u001b[0m\u001b[0;34m(\u001b[0m\u001b[0;34mf\"Sub-QUBO size = 5: {hms_string(np.mean(iteration_time_5_q))}\"\u001b[0m\u001b[0;34m)\u001b[0m\u001b[0;34m\u001b[0m\u001b[0;34m\u001b[0m\u001b[0m\n\u001b[1;32m      4\u001b[0m \u001b[0mprint\u001b[0m\u001b[0;34m(\u001b[0m\u001b[0;34mf\"Sub-QUBO size = 7: {hms_string(np.mean(iteration_time_7_q))}\"\u001b[0m\u001b[0;34m)\u001b[0m\u001b[0;34m\u001b[0m\u001b[0;34m\u001b[0m\u001b[0m\n\u001b[0;32m----> 5\u001b[0;31m \u001b[0mprint\u001b[0m\u001b[0;34m(\u001b[0m\u001b[0;34mf\"Sub-QUBO size = 10: {hms_string(np.mean(iteration_time_10_q))}\"\u001b[0m\u001b[0;34m)\u001b[0m\u001b[0;34m\u001b[0m\u001b[0;34m\u001b[0m\u001b[0m\n\u001b[0m",
      "\u001b[0;32m<ipython-input-29-a4322619afe5>\u001b[0m in \u001b[0;36mhms_string\u001b[0;34m(sec_elapsed)\u001b[0m\n\u001b[1;32m      5\u001b[0m     \u001b[0mhh\u001b[0m\u001b[0;34m:\u001b[0m\u001b[0mmm\u001b[0m\u001b[0;34m:\u001b[0m\u001b[0mss\u001b[0m\u001b[0;34m.\u001b[0m\u001b[0mmsms\u001b[0m\u001b[0;34m\u001b[0m\u001b[0;34m\u001b[0m\u001b[0m\n\u001b[1;32m      6\u001b[0m     \"\"\"\n\u001b[0;32m----> 7\u001b[0;31m     \u001b[0mh\u001b[0m \u001b[0;34m=\u001b[0m \u001b[0mint\u001b[0m\u001b[0;34m(\u001b[0m\u001b[0msec_elapsed\u001b[0m \u001b[0;34m/\u001b[0m \u001b[0;34m(\u001b[0m\u001b[0;36m60\u001b[0m \u001b[0;34m*\u001b[0m \u001b[0;36m60\u001b[0m\u001b[0;34m)\u001b[0m\u001b[0;34m)\u001b[0m\u001b[0;34m\u001b[0m\u001b[0;34m\u001b[0m\u001b[0m\n\u001b[0m\u001b[1;32m      8\u001b[0m     \u001b[0mm\u001b[0m \u001b[0;34m=\u001b[0m \u001b[0mint\u001b[0m\u001b[0;34m(\u001b[0m\u001b[0;34m(\u001b[0m\u001b[0msec_elapsed\u001b[0m \u001b[0;34m%\u001b[0m \u001b[0;34m(\u001b[0m\u001b[0;36m60\u001b[0m \u001b[0;34m*\u001b[0m \u001b[0;36m60\u001b[0m\u001b[0;34m)\u001b[0m\u001b[0;34m)\u001b[0m \u001b[0;34m/\u001b[0m \u001b[0;36m60\u001b[0m\u001b[0;34m)\u001b[0m\u001b[0;34m\u001b[0m\u001b[0;34m\u001b[0m\u001b[0m\n\u001b[1;32m      9\u001b[0m     \u001b[0ms\u001b[0m \u001b[0;34m=\u001b[0m \u001b[0msec_elapsed\u001b[0m \u001b[0;34m%\u001b[0m \u001b[0;36m60\u001b[0m\u001b[0;34m\u001b[0m\u001b[0;34m\u001b[0m\u001b[0m\n",
      "\u001b[0;31mValueError\u001b[0m: cannot convert float NaN to integer"
     ]
    }
   ],
   "source": [
    "print(\"Convergence time (reaching < 95% ground state energy) in hh:mm:ss.msms\")\n",
    "print(f\"Sub-QUBO size = 3: {hms_string(np.mean(iteration_time_3_q))}\")\n",
    "print(f\"Sub-QUBO size = 5: {hms_string(np.mean(iteration_time_5_q))}\")\n",
    "print(f\"Sub-QUBO size = 7: {hms_string(np.mean(iteration_time_7_q))}\")\n",
    "print(f\"Sub-QUBO size = 10: {hms_string(np.mean(iteration_time_10_q))}\")\n"
   ]
  },
  {
   "cell_type": "code",
   "execution_count": null,
   "metadata": {},
   "outputs": [],
   "source": []
  }
 ],
 "metadata": {
  "kernelspec": {
   "display_name": "Python 3",
   "language": "python",
   "name": "python3"
  },
  "language_info": {
   "codemirror_mode": {
    "name": "ipython",
    "version": 3
   },
   "file_extension": ".py",
   "mimetype": "text/x-python",
   "name": "python",
   "nbconvert_exporter": "python",
   "pygments_lexer": "ipython3",
   "version": "3.6.8"
  }
 },
 "nbformat": 4,
 "nbformat_minor": 4
}
