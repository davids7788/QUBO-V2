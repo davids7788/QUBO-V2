{
 "cells": [
  {
   "cell_type": "code",
   "execution_count": 1,
   "id": "4c90c3cb",
   "metadata": {},
   "outputs": [
    {
     "name": "stdout",
     "output_type": "stream",
     "text": [
      "Welcome to JupyROOT 6.24/08\n"
     ]
    }
   ],
   "source": [
    "import ROOT\n",
    "import os\n",
    "import matplotlib.pyplot as plt\n",
    "import csv\n",
    "import numpy as np"
   ]
  },
  {
   "cell_type": "code",
   "execution_count": 2,
   "id": "d76f0252",
   "metadata": {},
   "outputs": [],
   "source": [
    "from simplified_simulation.convert_to_csv import get_layer_and_module\n",
    "from simplified_simulation.convert_to_csv import get_not_close_to_beamline_stave\n",
    "from simplified_simulation.convert_to_csv import get_close_to_beamline_stave"
   ]
  },
  {
   "cell_type": "code",
   "execution_count": 41,
   "id": "ed2ab1ad",
   "metadata": {},
   "outputs": [
    {
     "name": "stdout",
     "output_type": "stream",
     "text": [
      "/nfs/dust/luxe/user/spatarod/Full_LUXE/background/event_1/e0ppw_Full_LUXE_0001_fl.csv\n"
     ]
    }
   ],
   "source": [
    "folder = '/nfs/dust/luxe/user/spatarod/Full_LUXE/background/event_1'\n",
    "event_folder = os.listdir(folder)\n",
    "\n",
    "output_name = f'e0ppw_{folder.split(\"/\")[-3]}_000{folder.split(\"/\")[-1].split(\"_\")[-1]}_fl.csv'\n",
    "print(f'{folder}/{output_name}')"
   ]
  },
  {
   "cell_type": "code",
   "execution_count": 42,
   "id": "c874a429",
   "metadata": {},
   "outputs": [],
   "source": [
    "x = []\n",
    "y = []\n",
    "z = []\n",
    "hit_ID = []\n",
    "layer_ID = []\n",
    "module_ID = []\n",
    "is_signal = []\n",
    "particle_ID = []\n",
    "energy = []\n",
    "\n",
    "for file in event_folder:\n",
    "    if not '.root' in file:\n",
    "        continue\n",
    "    in_file = ROOT.TFile.Open(f'{folder}/{file}',\"READ\")\n",
    "    try:\n",
    "        _ =  in_file.clusters\n",
    "    except AttributeError:\n",
    "        continue\n",
    "    \n",
    "    for i, event in enumerate(in_file.clusters):\n",
    "        event.GetEntry(i)\n",
    "        try:\n",
    "            x_i = 1e-3 * event.tru_hit[0][0]\n",
    "            y_i = 1e-3 * event.tru_hit[0][1]\n",
    "            z_i = np.round(1e-3 * event.tru_hit[0][2], 3)\n",
    "            \n",
    "            x.append(x_i)\n",
    "            y.append(y_i)\n",
    "            z.append(z_i)\n",
    "            layer, module = get_layer_and_module(x_i, y_i, z_i)\n",
    "            layer_ID.append(layer)\n",
    "            module_ID.append(module)\n",
    "            particle_ID.append(event.tru_trackId[0])\n",
    "            energy.append(event.tru_p[0][3])\n",
    "            if event.isSignal == 1:\n",
    "                is_signal.append(True)\n",
    "            else:\n",
    "                is_signal.append(False)\n",
    "        except IndexError:            \n",
    "            pass\n",
    "\n",
    "with open(f'{folder}/{output_name}', 'w', newline='') as csv_file:\n",
    "    fieldnames = ['hit_ID', 'x', 'y', 'z', 'layer_ID', 'module_ID', 'is_signal', 'particle_ID', 'particle_energy']\n",
    "    writer = csv.DictWriter(csv_file, fieldnames=fieldnames)\n",
    "    writer.writeheader()\n",
    "    for i in range(len(x)):\n",
    "        writer.writerow({'hit_ID': str(i),\n",
    "                         'x': x[i],\n",
    "                         'y': y[i],\n",
    "                         'z': z[i],\n",
    "                         'layer_ID': layer_ID[i],\n",
    "                         'module_ID': module_ID[i],\n",
    "                         'is_signal': is_signal[i],\n",
    "                         'particle_ID': particle_ID[i],\n",
    "                         'particle_energy': energy[i]})"
   ]
  },
  {
   "cell_type": "code",
   "execution_count": null,
   "id": "91529a8a",
   "metadata": {},
   "outputs": [],
   "source": [
    "fig = plt.figure(figsize=(12,12), dpi=500)\n",
    "ax = fig.add_subplot(projection='3d')\n",
    "ax.scatter(z, x, y, s=0.7, label=\"$e^-$- laser background\") # switch axes to match LUXE geometry description\n",
    "ax.set_xlabel('z [m]', fontsize=16)\n",
    "ax.set_ylabel('x [m]', fontsize=16)\n",
    "ax.set_zlabel('y [m]', fontsize=16)\n",
    "ax.tick_params(axis=\"x\", labelsize=16)\n",
    "ax.tick_params(axis=\"y\", labelsize=16)\n",
    "ax.tick_params(axis=\"z\", labelsize=16)\n",
    "ax.xaxis.labelpad=15\n",
    "ax.yaxis.labelpad=15\n",
    "ax.zaxis.labelpad=15\n",
    "ax.legend(loc='best', fontsize=16)\n",
    "ax.view_init(20, -130)\n"
   ]
  },
  {
   "cell_type": "code",
   "execution_count": null,
   "id": "f4ba9d98",
   "metadata": {},
   "outputs": [],
   "source": [
    "print(len(x))"
   ]
  },
  {
   "cell_type": "code",
   "execution_count": null,
   "id": "4f210a74",
   "metadata": {},
   "outputs": [],
   "source": [
    "plt.hist(energy)"
   ]
  },
  {
   "cell_type": "code",
   "execution_count": null,
   "id": "74a8451f",
   "metadata": {},
   "outputs": [],
   "source": [
    "plt.hist(energy)"
   ]
  },
  {
   "cell_type": "code",
   "execution_count": null,
   "id": "678626e6",
   "metadata": {},
   "outputs": [],
   "source": []
  }
 ],
 "metadata": {
  "kernelspec": {
   "display_name": "Python 3",
   "language": "python",
   "name": "python3"
  },
  "language_info": {
   "codemirror_mode": {
    "name": "ipython",
    "version": 3
   },
   "file_extension": ".py",
   "mimetype": "text/x-python",
   "name": "python",
   "nbconvert_exporter": "python",
   "pygments_lexer": "ipython3",
   "version": "3.6.8"
  }
 },
 "nbformat": 4,
 "nbformat_minor": 5
}
