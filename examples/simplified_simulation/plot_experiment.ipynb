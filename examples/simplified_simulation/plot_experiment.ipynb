{
 "cells": [
  {
   "cell_type": "code",
   "execution_count": 1,
   "id": "b3b89735",
   "metadata": {},
   "outputs": [],
   "source": [
    "import numpy as np\n",
    "import os\n",
    "import sys\n",
    "sys.path.append('..')\n",
    "\n",
    "from detector_plane import DetectorPlane\n",
    "from visualisation import Visualisation\n",
    "from ptarmigan import PtargmiganSimData\n",
    "\n",
    "# .h5 ptarmigan source file\n",
    "source = PtargmiganSimData(\"/nfs/dust/luxe/group/MCProduction/Signal/ptarmigan-v0.8.1/e-laser/phase1/gpc/3.0/e1gpc_3.0_0001_particles.h5\")\n",
    "\n",
    "# folder with Simplified Simulation result\n",
    "os.chdir(\"/nfs/dust/luxe/user/spatarod/SimplifiedLUXE/e-laser/phase1/gpc/3.0\")\n",
    "result = np.load('e1gpc_3.0_0000_fl.npy', allow_pickle=True)\n",
    "\n",
    "if not os.path.isdir('e1gpc_3.0_0000_fl_plots'):\n",
    "    os.mkdir('e1gpc_3.0_0000_fl_plots')\n",
    "os.chdir('e1gpc_3.0_0000_fl_plots')\n",
    "\n",
    "visualisation = Visualisation(source=source,\n",
    "                              result=result)\n",
    "\n",
    "visualisation.beam_source_visualisation()\n",
    "visualisation.plot_experiment_with_results([-0.015, 0.015],       # frame limits in 3D\n",
    "                                           [0.025, 0.575],\n",
    "                                           [3.8, 4.3],\n",
    "                                           number_of_displayed_tracks=100)"
   ]
  }
 ],
 "metadata": {
  "kernelspec": {
   "display_name": "Python 3",
   "language": "python",
   "name": "python3"
  },
  "language_info": {
   "codemirror_mode": {
    "name": "ipython",
    "version": 3
   },
   "file_extension": ".py",
   "mimetype": "text/x-python",
   "name": "python",
   "nbconvert_exporter": "python",
   "pygments_lexer": "ipython3",
   "version": "3.6.8"
  }
 },
 "nbformat": 4,
 "nbformat_minor": 5
}
